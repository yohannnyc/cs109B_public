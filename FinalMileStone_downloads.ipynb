{
 "cells": [
  {
   "cell_type": "code",
   "execution_count": 1,
   "metadata": {
    "collapsed": true
   },
   "outputs": [],
   "source": [
    "# Load useful libraries\n",
    "import tmdbsimple as tmdb  # https://github.com/celiao/tmdbsimple/blob/master/tmdbsimple\n",
    "import imdb as imdb\n",
    "import wikipedia\n",
    "import requests\n",
    "import pandas as pd\n",
    "import matplotlib\n",
    "import matplotlib.pyplot as plt\n",
    "from mpl_toolkits.mplot3d import Axes3D\n",
    "%matplotlib inline\n",
    "import time\n",
    "from sklearn.decomposition import PCA\n",
    "import PIL\n",
    "from PIL import Image\n",
    "import os\n",
    "import urllib\n",
    "import numpy as np\n",
    "import matplotlib.image as mpimg\n",
    "from sklearn.cross_validation import KFold, train_test_split\n",
    "from sklearn.neighbors import KNeighborsClassifier as KNN\n",
    "from sklearn import preprocessing, ensemble, preprocessing,cross_validation\n",
    "from sklearn import svm\n",
    "from sklearn import linear_model\n",
    "from sklearn.feature_extraction.text import CountVectorizer\n",
    "\n",
    "# tmdb's key\n",
    "tmdb.API_KEY = '594267d26bf6b98fd83b7bfd1729b426'  # Sathish's key"
   ]
  },
  {
   "cell_type": "markdown",
   "metadata": {},
   "source": [
    "Here we plan to download 2015 and 2016 movies (200 movies each year per genre) falling into genres (18,28,35) and handle multi-label problem. So, we should have 1200 movies overall. Some movies could have multiple genres and will get retrieved for each genre seperately. So, after downloading, we will remove duplicates"
   ]
  },
  {
   "cell_type": "code",
   "execution_count": 16,
   "metadata": {
    "collapsed": false
   },
   "outputs": [
    {
     "data": {
      "text/plain": [
       "[]"
      ]
     },
     "execution_count": 16,
     "metadata": {},
     "output_type": "execute_result"
    }
   ],
   "source": [
    "dummy_list = [2,3,4,5,6]\n",
    "len(dummy_list)\n",
    "\n",
    "#if len(dummy_list) < 5:\n",
    "no_zeros = 5 - len(dummy_list)\n",
    "[dummy_list.append(0) for i in range(no_zeros)]"
   ]
  },
  {
   "cell_type": "code",
   "execution_count": 17,
   "metadata": {
    "collapsed": false
   },
   "outputs": [
    {
     "data": {
      "text/plain": [
       "[2, 3, 4, 5, 6]"
      ]
     },
     "execution_count": 17,
     "metadata": {},
     "output_type": "execute_result"
    }
   ],
   "source": [
    "dummy_list"
   ]
  },
  {
   "cell_type": "code",
   "execution_count": 20,
   "metadata": {
    "collapsed": false,
    "scrolled": true
   },
   "outputs": [
    {
     "name": "stdout",
     "output_type": "stream",
     "text": [
      "Processing Genre: 18 Year: 2016 Page: 0\n",
      "Processing Genre: 18 Year: 2016 Page: 1\n",
      "Processing Genre: 18 Year: 2016 Page: 2\n",
      "Processing Genre: 18 Year: 2016 Page: 3\n",
      "Processing Genre: 18 Year: 2016 Page: 4\n",
      "Processing Genre: 18 Year: 2016 Page: 5\n",
      "Processing Genre: 18 Year: 2016 Page: 6\n",
      "Processing Genre: 18 Year: 2016 Page: 7\n",
      "Processing Genre: 18 Year: 2016 Page: 8\n",
      "Processing Genre: 18 Year: 2016 Page: 9\n",
      "Processing Genre: 28 Year: 2016 Page: 0\n",
      "Processing Genre: 28 Year: 2016 Page: 1\n",
      "Processing Genre: 28 Year: 2016 Page: 2\n",
      "Processing Genre: 28 Year: 2016 Page: 3\n",
      "Processing Genre: 28 Year: 2016 Page: 4\n",
      "Processing Genre: 28 Year: 2016 Page: 5\n",
      "Processing Genre: 28 Year: 2016 Page: 6\n",
      "Processing Genre: 28 Year: 2016 Page: 7\n",
      "Processing Genre: 28 Year: 2016 Page: 8\n",
      "Processing Genre: 28 Year: 2016 Page: 9\n",
      "Processing Genre: 35 Year: 2016 Page: 0\n",
      "Processing Genre: 35 Year: 2016 Page: 1\n",
      "Processing Genre: 35 Year: 2016 Page: 2\n",
      "Processing Genre: 35 Year: 2016 Page: 3\n",
      "Processing Genre: 35 Year: 2016 Page: 4\n",
      "Processing Genre: 35 Year: 2016 Page: 5\n",
      "Processing Genre: 35 Year: 2016 Page: 6\n",
      "Processing Genre: 35 Year: 2016 Page: 7\n",
      "Processing Genre: 35 Year: 2016 Page: 8\n",
      "Processing Genre: 35 Year: 2016 Page: 9\n",
      "Processing Genre: 18 Year: 2015 Page: 0\n",
      "Processing Genre: 18 Year: 2015 Page: 1\n",
      "Processing Genre: 18 Year: 2015 Page: 2\n",
      "Processing Genre: 18 Year: 2015 Page: 3\n",
      "Processing Genre: 18 Year: 2015 Page: 4\n",
      "Processing Genre: 18 Year: 2015 Page: 5\n",
      "Processing Genre: 18 Year: 2015 Page: 6\n",
      "Processing Genre: 18 Year: 2015 Page: 7\n",
      "Processing Genre: 18 Year: 2015 Page: 8\n",
      "Processing Genre: 18 Year: 2015 Page: 9\n",
      "Processing Genre: 28 Year: 2015 Page: 0\n",
      "Processing Genre: 28 Year: 2015 Page: 1\n",
      "Processing Genre: 28 Year: 2015 Page: 2\n",
      "Processing Genre: 28 Year: 2015 Page: 3\n",
      "Processing Genre: 28 Year: 2015 Page: 4\n",
      "Processing Genre: 28 Year: 2015 Page: 5\n",
      "Processing Genre: 28 Year: 2015 Page: 6\n",
      "Processing Genre: 28 Year: 2015 Page: 7\n",
      "Processing Genre: 28 Year: 2015 Page: 8\n",
      "Processing Genre: 28 Year: 2015 Page: 9\n",
      "Processing Genre: 35 Year: 2015 Page: 0\n",
      "Processing Genre: 35 Year: 2015 Page: 1\n",
      "Processing Genre: 35 Year: 2015 Page: 2\n",
      "Processing Genre: 35 Year: 2015 Page: 3\n",
      "Processing Genre: 35 Year: 2015 Page: 4\n",
      "Processing Genre: 35 Year: 2015 Page: 5\n",
      "Processing Genre: 35 Year: 2015 Page: 6\n",
      "Processing Genre: 35 Year: 2015 Page: 7\n",
      "Processing Genre: 35 Year: 2015 Page: 8\n",
      "Processing Genre: 35 Year: 2015 Page: 9\n"
     ]
    },
    {
     "data": {
      "text/plain": [
       "1200"
      ]
     },
     "execution_count": 20,
     "metadata": {},
     "output_type": "execute_result"
    }
   ],
   "source": [
    "title = []\n",
    "ids = []\n",
    "release_date = []\n",
    "popularity = []\n",
    "vote_average = []\n",
    "release_year = []\n",
    "poster_path = []\n",
    "overview = []\n",
    "original_language = []\n",
    "\n",
    "no_of_years = 2\n",
    "no_of_pages_per_year = 10\n",
    "movies_per_page = 20\n",
    "current_year = 2016\n",
    "\n",
    "genre1 = []\n",
    "genre2 = []\n",
    "genre3 = []\n",
    "genre4 = []\n",
    "genre5 = []\n",
    "\n",
    "#Genre ID: \n",
    "drama = 18\n",
    "discover = tmdb.Discover()\n",
    "genres = [18,28,35]\n",
    "\n",
    "for y in range(no_of_years):\n",
    "    for genre in genres:\n",
    "        response = discover.movie(page = 1, primary_release_year=current_year-y, with_genres=genre)\n",
    "        no_of_pages = discover.total_pages\n",
    "        for i in range(no_of_pages_per_year): #every page gives 20 movies. So get 200 movies (10*20)\n",
    "            print(\"Processing Genre: \" + str(genre) + \" Year: \" + str(current_year-y) + \" Page: \" + str(i))\n",
    "            time.sleep(0.5)\n",
    "            response = discover.movie(page = i+1, primary_release_year=current_year-y, with_genres=genre)\n",
    "            for k, s in zip(range(len(discover.results)), discover.results):\n",
    "                title.append(s['title'])\n",
    "                ids.append(s['id'])\n",
    "                release_date.append(s['release_date'])\n",
    "                popularity.append(s['popularity'])\n",
    "                vote_average.append(s['vote_average'])\n",
    "                this_movie_genres = (s['genre_ids'])\n",
    "                no_zeros = 5 - len(this_movie_genres)\n",
    "                [this_movie_genres.append(0) for i in range(no_zeros)]\n",
    "                for i, each_movie_genre in enumerate(this_movie_genres):\n",
    "                    if i == 0:\n",
    "                        genre1.append(each_movie_genre)\n",
    "                    elif i == 1:\n",
    "                        genre2.append(each_movie_genre)\n",
    "                    elif i == 2:\n",
    "                        genre3.append(each_movie_genre)\n",
    "                    elif i == 3:\n",
    "                        genre4.append(each_movie_genre)\n",
    "                    elif i == 4:\n",
    "                        genre5.append(each_movie_genre)\n",
    "                release_year.append(current_year-y)\n",
    "                poster_path.append(s['poster_path'])\n",
    "                overview.append(s['overview'])\n",
    "                original_language.append(s['original_language'])\n",
    "\n",
    "df_all_movies = pd.DataFrame({'title': title, 'ids': ids, 'release_date': release_date, 'release_year' : release_year, \n",
    "                              'popularity': popularity, 'genre1': genre1, 'genre2': genre2, 'genre3': genre3, 'genre4': genre4,\n",
    "                              'genre5': genre5, 'vote_average': vote_average, 'poster_path': poster_path,\n",
    "                             'overview': overview, 'language': original_language})\n",
    "\n",
    "len(df_all_movies)"
   ]
  },
  {
   "cell_type": "code",
   "execution_count": 21,
   "metadata": {
    "collapsed": false
   },
   "outputs": [
    {
     "data": {
      "text/html": [
       "<div>\n",
       "<table border=\"1\" class=\"dataframe\">\n",
       "  <thead>\n",
       "    <tr style=\"text-align: right;\">\n",
       "      <th></th>\n",
       "      <th>genre1</th>\n",
       "      <th>genre2</th>\n",
       "      <th>genre3</th>\n",
       "      <th>genre4</th>\n",
       "      <th>genre5</th>\n",
       "      <th>ids</th>\n",
       "      <th>language</th>\n",
       "      <th>overview</th>\n",
       "      <th>popularity</th>\n",
       "      <th>poster_path</th>\n",
       "      <th>release_date</th>\n",
       "      <th>release_year</th>\n",
       "      <th>title</th>\n",
       "      <th>vote_average</th>\n",
       "    </tr>\n",
       "  </thead>\n",
       "  <tbody>\n",
       "    <tr>\n",
       "      <th>0</th>\n",
       "      <td>16</td>\n",
       "      <td>35</td>\n",
       "      <td>18</td>\n",
       "      <td>10751</td>\n",
       "      <td>10402</td>\n",
       "      <td>335797</td>\n",
       "      <td>en</td>\n",
       "      <td>A koala named Buster recruits his best friend ...</td>\n",
       "      <td>56.917533</td>\n",
       "      <td>/eSVtBB2PVFbQiFWC7CQi3EjIZnn.jpg</td>\n",
       "      <td>2016-11-23</td>\n",
       "      <td>2016</td>\n",
       "      <td>Sing</td>\n",
       "      <td>6.8</td>\n",
       "    </tr>\n",
       "    <tr>\n",
       "      <th>1</th>\n",
       "      <td>28</td>\n",
       "      <td>18</td>\n",
       "      <td>878</td>\n",
       "      <td>0</td>\n",
       "      <td>0</td>\n",
       "      <td>330459</td>\n",
       "      <td>en</td>\n",
       "      <td>A rogue band of resistance fighters unite for ...</td>\n",
       "      <td>26.293151</td>\n",
       "      <td>/qjiskwlV1qQzRCjpV0cL9pEMF9a.jpg</td>\n",
       "      <td>2016-12-14</td>\n",
       "      <td>2016</td>\n",
       "      <td>Rogue One: A Star Wars Story</td>\n",
       "      <td>7.3</td>\n",
       "    </tr>\n",
       "    <tr>\n",
       "      <th>2</th>\n",
       "      <td>35</td>\n",
       "      <td>18</td>\n",
       "      <td>10402</td>\n",
       "      <td>10749</td>\n",
       "      <td>0</td>\n",
       "      <td>313369</td>\n",
       "      <td>en</td>\n",
       "      <td>Mia, an aspiring actress, serves lattes to mov...</td>\n",
       "      <td>21.787982</td>\n",
       "      <td>/ylXCdC106IKiarftHkcacasaAcb.jpg</td>\n",
       "      <td>2016-11-29</td>\n",
       "      <td>2016</td>\n",
       "      <td>La La Land</td>\n",
       "      <td>7.9</td>\n",
       "    </tr>\n",
       "    <tr>\n",
       "      <th>3</th>\n",
       "      <td>53</td>\n",
       "      <td>18</td>\n",
       "      <td>878</td>\n",
       "      <td>9648</td>\n",
       "      <td>0</td>\n",
       "      <td>329865</td>\n",
       "      <td>en</td>\n",
       "      <td>Taking place after alien crafts land around th...</td>\n",
       "      <td>21.781708</td>\n",
       "      <td>/hLudzvGfpi6JlwUnsNhXwKKg4j.jpg</td>\n",
       "      <td>2016-11-10</td>\n",
       "      <td>2016</td>\n",
       "      <td>Arrival</td>\n",
       "      <td>6.9</td>\n",
       "    </tr>\n",
       "    <tr>\n",
       "      <th>4</th>\n",
       "      <td>18</td>\n",
       "      <td>35</td>\n",
       "      <td>0</td>\n",
       "      <td>0</td>\n",
       "      <td>0</td>\n",
       "      <td>382591</td>\n",
       "      <td>fr</td>\n",
       "      <td>A man without attachments or responsibilities ...</td>\n",
       "      <td>19.939147</td>\n",
       "      <td>/muwaDIv5cLv2Z07CZFWOsL7lYuO.jpg</td>\n",
       "      <td>2016-12-07</td>\n",
       "      <td>2016</td>\n",
       "      <td>Tomorrow Everything Starts</td>\n",
       "      <td>7.6</td>\n",
       "    </tr>\n",
       "  </tbody>\n",
       "</table>\n",
       "</div>"
      ],
      "text/plain": [
       "   genre1  genre2  genre3  genre4  genre5     ids language  \\\n",
       "0      16      35      18   10751   10402  335797       en   \n",
       "1      28      18     878       0       0  330459       en   \n",
       "2      35      18   10402   10749       0  313369       en   \n",
       "3      53      18     878    9648       0  329865       en   \n",
       "4      18      35       0       0       0  382591       fr   \n",
       "\n",
       "                                            overview  popularity  \\\n",
       "0  A koala named Buster recruits his best friend ...   56.917533   \n",
       "1  A rogue band of resistance fighters unite for ...   26.293151   \n",
       "2  Mia, an aspiring actress, serves lattes to mov...   21.787982   \n",
       "3  Taking place after alien crafts land around th...   21.781708   \n",
       "4  A man without attachments or responsibilities ...   19.939147   \n",
       "\n",
       "                        poster_path release_date  release_year  \\\n",
       "0  /eSVtBB2PVFbQiFWC7CQi3EjIZnn.jpg   2016-11-23          2016   \n",
       "1  /qjiskwlV1qQzRCjpV0cL9pEMF9a.jpg   2016-12-14          2016   \n",
       "2  /ylXCdC106IKiarftHkcacasaAcb.jpg   2016-11-29          2016   \n",
       "3   /hLudzvGfpi6JlwUnsNhXwKKg4j.jpg   2016-11-10          2016   \n",
       "4  /muwaDIv5cLv2Z07CZFWOsL7lYuO.jpg   2016-12-07          2016   \n",
       "\n",
       "                          title  vote_average  \n",
       "0                          Sing           6.8  \n",
       "1  Rogue One: A Star Wars Story           7.3  \n",
       "2                    La La Land           7.9  \n",
       "3                       Arrival           6.9  \n",
       "4    Tomorrow Everything Starts           7.6  "
      ]
     },
     "execution_count": 21,
     "metadata": {},
     "output_type": "execute_result"
    }
   ],
   "source": [
    "df_all_movies.head()"
   ]
  },
  {
   "cell_type": "code",
   "execution_count": 23,
   "metadata": {
    "collapsed": false
   },
   "outputs": [
    {
     "data": {
      "text/plain": [
       "1011"
      ]
     },
     "execution_count": 23,
     "metadata": {},
     "output_type": "execute_result"
    }
   ],
   "source": [
    "#remove duplicate movies from list (retrieved because of multiple genres)\n",
    "df_unique_movies = df_all_movies.drop_duplicates(subset = ['ids'])\n",
    "\n",
    "#remove movies which does not have any posters.\n",
    "df_unique_movies = df_unique_movies[pd.notnull(df_unique_movies['poster_path'])]\n",
    "\n",
    "#save retrieved movies to csv\n",
    "df_unique_movies.to_csv(\"FinalMilestoneMovies.csv\", encoding='utf-8')\n",
    "len(df_unique_movies)"
   ]
  },
  {
   "cell_type": "markdown",
   "metadata": {},
   "source": [
    "To avoid executing all the code above, we read from the same csv above."
   ]
  },
  {
   "cell_type": "code",
   "execution_count": 2,
   "metadata": {
    "collapsed": true
   },
   "outputs": [],
   "source": [
    "df_unique_movies = pd.read_csv('FinalMilestoneMovies.csv')"
   ]
  },
  {
   "cell_type": "code",
   "execution_count": 5,
   "metadata": {
    "collapsed": false,
    "scrolled": true
   },
   "outputs": [
    {
     "data": {
      "text/plain": [
       "473     None\n",
       "474     None\n",
       "475     None\n",
       "476     None\n",
       "477     None\n",
       "478     None\n",
       "479     None\n",
       "480     None\n",
       "481     None\n",
       "482     None\n",
       "483     None\n",
       "484     None\n",
       "485     None\n",
       "486     None\n",
       "487     None\n",
       "488     None\n",
       "489     None\n",
       "490     None\n",
       "491     None\n",
       "492     None\n",
       "493     None\n",
       "494     None\n",
       "495     None\n",
       "496     None\n",
       "497     None\n",
       "498     None\n",
       "499     None\n",
       "500     None\n",
       "501     None\n",
       "502     None\n",
       "        ... \n",
       "981     None\n",
       "982     None\n",
       "983     None\n",
       "984     None\n",
       "985     None\n",
       "986     None\n",
       "987     None\n",
       "988     None\n",
       "989     None\n",
       "990     None\n",
       "991     None\n",
       "992     None\n",
       "993     None\n",
       "994     None\n",
       "995     None\n",
       "996     None\n",
       "997     None\n",
       "998     None\n",
       "999     None\n",
       "1000    None\n",
       "1001    None\n",
       "1002    None\n",
       "1003    None\n",
       "1004    None\n",
       "1005    None\n",
       "1006    None\n",
       "1007    None\n",
       "1008    None\n",
       "1009    None\n",
       "1010    None\n",
       "dtype: object"
      ]
     },
     "execution_count": 5,
     "metadata": {},
     "output_type": "execute_result"
    }
   ],
   "source": [
    "base_url = 'http://image.tmdb.org/t/p/original/'\n",
    "\n",
    "def url2poster(movie):\n",
    "    url = base_url+movie['poster_path']\n",
    "    urllib.urlretrieve(url, './FinalMilestonePosters_Raw/'+str(movie['ids'])+'_'+str(movie['release_year'])+\".jpg\")\n",
    "    time.sleep(0.05)\n",
    "    \n",
    "df_unique_movies.apply(url2poster, axis = 1)"
   ]
  },
  {
   "cell_type": "code",
   "execution_count": 29,
   "metadata": {
    "collapsed": false
   },
   "outputs": [],
   "source": [
    "from PIL import ImageFile\n",
    "ImageFile.LOAD_TRUNCATED_IMAGES = True\n",
    "images = os.listdir(\"./FinalMilestonePosters_Raw\")\n",
    "for img_jpg in images:\n",
    "    img = Image.open('./FinalMilestonePosters_Raw/' + str(img_jpg))\n",
    "    img = img.resize((350,500), PIL.Image.ANTIALIAS)\n",
    "    img.save('./FinalMilestonePosters_Resized/'+str(img_jpg))"
   ]
  },
  {
   "cell_type": "code",
   "execution_count": null,
   "metadata": {
    "collapsed": true
   },
   "outputs": [],
   "source": []
  }
 ],
 "metadata": {
  "kernelspec": {
   "display_name": "Python [Root]",
   "language": "python",
   "name": "Python [Root]"
  },
  "language_info": {
   "codemirror_mode": {
    "name": "ipython",
    "version": 2
   },
   "file_extension": ".py",
   "mimetype": "text/x-python",
   "name": "python",
   "nbconvert_exporter": "python",
   "pygments_lexer": "ipython2",
   "version": "2.7.12"
  }
 },
 "nbformat": 4,
 "nbformat_minor": 0
}
