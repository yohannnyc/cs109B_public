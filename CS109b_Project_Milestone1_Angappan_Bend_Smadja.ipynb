{
 "cells": [
  {
   "cell_type": "markdown",
   "metadata": {},
   "source": [
    "# CS109B - Project - Milestone 1\n",
    "\n",
    "### Sathish Angappan, Hannah Bend, Yohann Smadja\n",
    "\n",
    "\n",
    "This notebook uses three APIs, tmdbsimple, IMDbPY and wikipedia, to download information, posters and plots of our favorite movies. We start with one of the best movies of all time, Lost In Translation from Sofia Coppola staring the hillarious Bill Murray and Scarlett Johansson. For this movie, we downloaded basis information, the best rated poster and the plot from wikipedia. For this movie, TMDB and IMDB have the same genre classification, \"Drama\", but we know, it is not always the case.\n",
    "\n",
    "We downloaded information on the 10 most popular movies of 2016 and the top 100 of the past 60 years to have a look at genre distribution. \n",
    "\n",
    "\n",
    "## 0. Setting up the environment\n",
    "\n",
    "Please install the libraries below if it is not already done and upload all the packages we will need for this notebook."
   ]
  },
  {
   "cell_type": "code",
   "execution_count": 22,
   "metadata": {
    "collapsed": true
   },
   "outputs": [],
   "source": [
    "# Install the packages tmdbsimple, wikipedia and IMDbPY\n",
    "#!pip install tmdbsimple\n",
    "#!pip install wikipedia\n",
    "#!pip install IMDbPY #(You might need to update the Microsoft Visual C++ Compiler for Python 2.7... follow the link provided in the error message if any)"
   ]
  },
  {
   "cell_type": "code",
   "execution_count": 1,
   "metadata": {
    "collapsed": false
   },
   "outputs": [],
   "source": [
    "# Load useful libraries\n",
    "import tmdbsimple as tmdb  # https://github.com/celiao/tmdbsimple/blob/master/tmdbsimple\n",
    "import imdb as imdb\n",
    "import wikipedia\n",
    "import requests\n",
    "import pandas as pd\n",
    "import matplotlib\n",
    "import matplotlib.pyplot as plt\n",
    "%matplotlib inline\n",
    "import time\n",
    "\n",
    "# tmdb's key\n",
    "#tmdb.API_KEY = '594267d26bf6b98fd83b7bfd1729b426'  # Sathish's key\n",
    "tmdb.API_KEY = '3a2bb32bfd2ff33e8a6feed3eb9145cf' #wife key"
   ]
  },
  {
   "cell_type": "markdown",
   "metadata": {},
   "source": [
    "## 1. Search for the movie \"Lost in Translation\"\n",
    "\n",
    "### 1.1. TMDB search"
   ]
  },
  {
   "cell_type": "code",
   "execution_count": 12,
   "metadata": {
    "collapsed": false
   },
   "outputs": [
    {
     "name": "stdout",
     "output_type": "stream",
     "text": [
      "{u'poster_path': u'/5T8VvuFTdaawKLJk34i69Utaw7o.jpg', u'title': u'Lost in Translation', u'overview': u\"Two lost souls visiting Tokyo -- the young, neglected wife of a photographer and a washed-up movie star shooting a TV commercial -- find an odd solace and pensive freedom to be real in each other's company, away from their lives in America.\", u'release_date': u'2003-08-31', u'popularity': 4.844359, u'original_title': u'Lost in Translation', u'backdrop_path': u'/gkbtPw5gyp8exaKw4zXEyH33J1m.jpg', u'vote_count': 1525, u'video': False, u'adult': False, u'vote_average': 7.3, u'original_language': u'en', u'id': 153, u'genre_ids': [18]}\n",
      "(u'Lost in Translation', 153, u'2003-08-31', 4.844359)\n",
      "{u'poster_path': u'/wEfh51lkfCVOY7hhQ3kEFIb1oUZ.jpg', u'title': u'Trevor Noah: Lost In Translation', u'overview': u'Filmed at The Lincoln Theatre in Washington, D.C., \"Trevor Noah: Lost in Translation\" brings Noah\\'s unique world-view and global analysis of American culture to the forefront. In the special, Noah addresses major domestic and international events of the past year, sharing his outlook on the world today, including terrorism, racial tensions in America and what it was like being African and travelling into the United States during the EBOLA crisis.', u'release_date': u'2015-11-22', u'popularity': 1.0287, u'original_title': u'Trevor Noah: Lost In Translation', u'backdrop_path': u'/fcMDIR9P5QLknrI2fJ4hXQgkrU1.jpg', u'vote_count': 1, u'video': False, u'adult': False, u'vote_average': 9, u'original_language': u'en', u'id': 369665, u'genre_ids': [35]}\n",
      "(u'Trevor Noah: Lost In Translation', 369665, u'2015-11-22', 1.0287)\n",
      "{u'poster_path': u'/wCodk7eQDnbTpy3SO4JD0HRTab1.jpg', u'title': u'Once Upon a Time... Lost in Translation', u'overview': u'A documentary about the making of Lost in Translation.', u'release_date': u'2015-08-19', u'popularity': 1.004031, u'original_title': u'Il \\xe9tait une fois.... Lost in Translation', u'backdrop_path': None, u'vote_count': 0, u'video': False, u'adult': False, u'vote_average': 0, u'original_language': u'en', u'id': 447397, u'genre_ids': [99]}\n",
      "(u'Once Upon a Time... Lost in Translation', 447397, u'2015-08-19', 1.004031)\n",
      "{u'poster_path': u'/lsVQfLaklarG4E3tz5xqlgp7QXY.jpg', u'title': u\"Lost on Location: Behind the Scenes of 'Lost in Translation'\", u'overview': u\"Behind the scenes documentary shot during the making of Sofia Coppola's Lost In Translation (2003)\", u'release_date': u'2004-02-03', u'popularity': 1.052378, u'original_title': u'Lost on Location', u'backdrop_path': None, u'vote_count': 2, u'video': False, u'adult': False, u'vote_average': 8, u'original_language': u'en', u'id': 113149, u'genre_ids': [99]}\n",
      "(u\"Lost on Location: Behind the Scenes of 'Lost in Translation'\", 113149, u'2004-02-03', 1.052378)\n"
     ]
    }
   ],
   "source": [
    "search = tmdb.Search()\n",
    "response = search.movie(query='Lost in translation')\n",
    "for s in search.results:\n",
    "    print s\n",
    "    print(s['title'], s['id'], s['release_date'], s['popularity'])"
   ]
  },
  {
   "cell_type": "markdown",
   "metadata": {},
   "source": [
    "### 1.2. TMDB basic information"
   ]
  },
  {
   "cell_type": "code",
   "execution_count": 13,
   "metadata": {
    "collapsed": false
   },
   "outputs": [
    {
     "data": {
      "text/plain": [
       "{u'adult': False,\n",
       " u'backdrop_path': u'/gkbtPw5gyp8exaKw4zXEyH33J1m.jpg',\n",
       " u'belongs_to_collection': None,\n",
       " u'budget': 4000000,\n",
       " u'genres': [{u'id': 18, u'name': u'Drama'}],\n",
       " u'homepage': u'',\n",
       " u'id': 153,\n",
       " u'imdb_id': u'tt0335266',\n",
       " u'original_language': u'en',\n",
       " u'original_title': u'Lost in Translation',\n",
       " u'overview': u\"Two lost souls visiting Tokyo -- the young, neglected wife of a photographer and a washed-up movie star shooting a TV commercial -- find an odd solace and pensive freedom to be real in each other's company, away from their lives in America.\",\n",
       " u'popularity': 3.844359,\n",
       " u'poster_path': u'/5T8VvuFTdaawKLJk34i69Utaw7o.jpg',\n",
       " u'production_companies': [{u'id': 70, u'name': u'American Zoetrope'}],\n",
       " u'production_countries': [{u'iso_3166_1': u'JP', u'name': u'Japan'},\n",
       "  {u'iso_3166_1': u'US', u'name': u'United States of America'}],\n",
       " u'release_date': u'2003-08-31',\n",
       " u'revenue': 119723856,\n",
       " u'runtime': 102,\n",
       " u'spoken_languages': [{u'iso_639_1': u'ja', u'name': u'\\u65e5\\u672c\\u8a9e'},\n",
       "  {u'iso_639_1': u'en', u'name': u'English'}],\n",
       " u'status': u'Released',\n",
       " u'tagline': u'Everyone wants to be found.',\n",
       " u'title': u'Lost in Translation',\n",
       " u'video': False,\n",
       " u'vote_average': 7.3,\n",
       " u'vote_count': 1535}"
      ]
     },
     "execution_count": 13,
     "metadata": {},
     "output_type": "execute_result"
    }
   ],
   "source": [
    "lostintranslation = tmdb.Movies(153)\n",
    "lostintranslation.info()"
   ]
  },
  {
   "cell_type": "markdown",
   "metadata": {},
   "source": [
    "### 1.3. IMDB search"
   ]
  },
  {
   "cell_type": "code",
   "execution_count": 14,
   "metadata": {
    "collapsed": false
   },
   "outputs": [
    {
     "name": "stdout",
     "output_type": "stream",
     "text": [
      "(u'Lost in Translation', '0335266')\n",
      "(u'Lost in Translation', '1660392')\n",
      "(u'Lost in Translation', '4531002')\n",
      "(u'Lost in Translation', '3131256')\n",
      "(u'Lost in Translation (2012) (TV Episode)  - Season 1 | Episode 7  - The Exes', '2148549')\n",
      "(u\"Lost in Translation (2010) (TV Episode)  - Season 6 | Episode 9  - Australia's Next Top Model\", '1803820')\n",
      "(u'Lost in Translation (2016) (TV Episode)  - Season 3 | Episode 8  - Match Not Found', '6366034')\n",
      "(u'Lost in Translation (2009) (TV Episode)  - Season 3 | Episode 3  - Robin Hood', '1278944')\n",
      "(u'Lost in Translation (2011) (TV Episode)  - Season 1 | Episode 8  - Troopers', '1967401')\n",
      "(u'Lost in Translation (2015) (TV Episode)  - Season 1 | Episode 3  - Bangkok Airport', '4603388')\n",
      "(u'Lost in Translation (2011) (TV Episode)  - Season 1 | Episode 11  - The Whole Truth', '1770474')\n",
      "(u'Lost in Translation (2013) (TV Episode)  - Season 1 | Episode 1  - Bible Secrets Revealed', '3343578')\n",
      "(u\"Lost in Translation (2018) (TV Episode)  - Season 2 | Episode 8  - The Wicked World of Disney's Prep\", '6336442')\n",
      "(u'Lost in Translation (2009) (TV Episode)  - Season 1 | Episode 9  - Big in Japan', '1407354')\n",
      "(u'Lost in Translation (2017) (TV Episode)  - Season 1 | Episode 2  - Porn Again', '6314140')\n",
      "(u'Lost in translation (2012) (TV Episode)  - Season 3 | Episode 7  - Travel Companions', '2260925')\n",
      "(u'Lost in Translation (2016) (TV Episode)  - Season 1 | Episode 14  - Planet Primetime', '5292560')\n",
      "(u'Lost in Translation (2007) (TV Episode)  - Season 1 | Episode 6  - Buddy Jackson', '1380332')\n",
      "(u'Lost in Translation (2012) (TV Episode)  - Season 2 | Episode 2  - Awkward Sunrise', '2770886')\n",
      "(u'Lost in Translation (2012) (TV Episode)  - Season 1 | Episode 52  - Girls Next Door', '2881742')\n"
     ]
    }
   ],
   "source": [
    "ia = imdb.IMDb() \n",
    "response_imdb = ia.search_movie('Lost in translation')\n",
    "response_imdb[0]\n",
    "for s in response_imdb:\n",
    "    print (s['title'], s.movieID)"
   ]
  },
  {
   "cell_type": "markdown",
   "metadata": {},
   "source": [
    "### 1.4. IMDB basic information"
   ]
  },
  {
   "cell_type": "code",
   "execution_count": 15,
   "metadata": {
    "collapsed": false
   },
   "outputs": [
    {
     "name": "stdout",
     "output_type": "stream",
     "text": [
      "Title: Lost in Translation\n",
      "Director: Sofia Coppola\n",
      "Genre: Drama\n"
     ]
    }
   ],
   "source": [
    "lostintranslation_imdb = response_imdb[0]\n",
    "ia.update(lostintranslation_imdb)\n",
    "\n",
    "print \"Title:\", lostintranslation_imdb[\"title\"]\n",
    "print \"Director:\", lostintranslation_imdb[\"director\"][0]\n",
    "print \"Genre:\", lostintranslation_imdb[\"genre\"][0]"
   ]
  },
  {
   "cell_type": "markdown",
   "metadata": {},
   "source": [
    "Both TMDB and IMDB have the same genre classification, \"Drama\". "
   ]
  },
  {
   "cell_type": "markdown",
   "metadata": {},
   "source": [
    "## 2. Path to the movie poster\n",
    "\n",
    "Using the TMDB API we download the best rated poster of \"Lost in Translation\"."
   ]
  },
  {
   "cell_type": "code",
   "execution_count": 16,
   "metadata": {
    "collapsed": false
   },
   "outputs": [],
   "source": [
    "CONFIG_PATTERN = 'https://api.themoviedb.org/3/movie/550?api_key={key}'\n",
    "url = CONFIG_PATTERN.format(key=tmdb.API_KEY)\n",
    "r = requests.get(url)\n",
    "config = r.json()"
   ]
  },
  {
   "cell_type": "code",
   "execution_count": 17,
   "metadata": {
    "collapsed": true
   },
   "outputs": [],
   "source": [
    "CONFIG_PATTERN = 'http://api.themoviedb.org/3/configuration?api_key={key}'\n",
    "url = CONFIG_PATTERN.format(key=tmdb.API_KEY)\n",
    "r = requests.get(url)\n",
    "config = r.json()\n",
    "\n",
    "# Function to return always the biggest (highest definition) image\n",
    "base_url = config['images']['base_url']\n",
    "sizes = config['images']['poster_sizes']\n",
    "\"\"\"\n",
    "    'sizes' should be sorted in ascending order, so max_size = sizes[-1] should get the largest size as well.        \n",
    "\"\"\"\n",
    "def size_str_to_int(x):\n",
    "    return float(\"inf\") if x == 'original' else int(x[1:])\n",
    "max_size = max(sizes, key=size_str_to_int)"
   ]
  },
  {
   "cell_type": "code",
   "execution_count": 18,
   "metadata": {
    "collapsed": false
   },
   "outputs": [
    {
     "name": "stdout",
     "output_type": "stream",
     "text": [
      "[u'w92', u'w154', u'w185', u'w342', u'w500', u'w780', u'original']\n",
      "original\n"
     ]
    }
   ],
   "source": [
    "print sizes\n",
    "print max_size"
   ]
  },
  {
   "cell_type": "code",
   "execution_count": 19,
   "metadata": {
    "collapsed": false
   },
   "outputs": [
    {
     "name": "stdout",
     "output_type": "stream",
     "text": [
      "http://image.tmdb.org/t/p/original/5T8VvuFTdaawKLJk34i69Utaw7o.jpg\n"
     ]
    }
   ],
   "source": [
    "# Download the the best rated poster of \"Lost in Translation\"\n",
    "IMDBID = lostintranslation.imdb_id\n",
    "\n",
    "IMG_PATTERN = 'http://api.themoviedb.org/3/movie/{imdbid}/images?api_key={key}' \n",
    "r = requests.get(IMG_PATTERN.format(key=tmdb.API_KEY,imdbid=IMDBID))\n",
    "api_response = r.json()\n",
    "path = api_response['posters'][0]['file_path']\n",
    "url_poster = \"{0}{1}{2}\".format(base_url, max_size, path)\n",
    "\n",
    "print url_poster"
   ]
  },
  {
   "cell_type": "code",
   "execution_count": 20,
   "metadata": {
    "collapsed": false
   },
   "outputs": [
    {
     "data": {
      "text/html": [
       "<img src=\"http://image.tmdb.org/t/p/original/5T8VvuFTdaawKLJk34i69Utaw7o.jpg\"/>"
      ],
      "text/plain": [
       "<IPython.core.display.Image object>"
      ]
     },
     "execution_count": 20,
     "metadata": {},
     "output_type": "execute_result"
    }
   ],
   "source": [
    "from IPython.display import Image\n",
    "Image(url= url_poster)"
   ]
  },
  {
   "cell_type": "markdown",
   "metadata": {},
   "source": [
    "The facial expression of Bill Murray translate perfectly the mood of his character, Bob Harris, an aging movie star in the middle of his midlife crisis. The colors of his hotel room were also selected attentively. \n",
    "\n",
    "It was noted by a critic that the light contrasts supported the story as light tones were a symbole of romance and dark tones symbolized despondency. \n",
    "\n",
    "Is deep learning able to learn those features to classify movies by genre?"
   ]
  },
  {
   "cell_type": "markdown",
   "metadata": {},
   "source": [
    "## 3. Cast and Crew\n",
    "\n",
    "TMDB allows us to download the list of actors and other people who worked on the movie. "
   ]
  },
  {
   "cell_type": "code",
   "execution_count": 21,
   "metadata": {
    "collapsed": false
   },
   "outputs": [
    {
     "data": {
      "text/html": [
       "<div>\n",
       "<table border=\"1\" class=\"dataframe\">\n",
       "  <thead>\n",
       "    <tr style=\"text-align: right;\">\n",
       "      <th></th>\n",
       "      <th>character</th>\n",
       "      <th>name</th>\n",
       "      <th>id</th>\n",
       "    </tr>\n",
       "  </thead>\n",
       "  <tbody>\n",
       "    <tr>\n",
       "      <th>0</th>\n",
       "      <td>Bob Harris</td>\n",
       "      <td>Bill Murray</td>\n",
       "      <td>1532</td>\n",
       "    </tr>\n",
       "    <tr>\n",
       "      <th>1</th>\n",
       "      <td>Charlotte</td>\n",
       "      <td>Scarlett Johansson</td>\n",
       "      <td>1245</td>\n",
       "    </tr>\n",
       "    <tr>\n",
       "      <th>2</th>\n",
       "      <td>Kelly</td>\n",
       "      <td>Anna Faris</td>\n",
       "      <td>1772</td>\n",
       "    </tr>\n",
       "    <tr>\n",
       "      <th>3</th>\n",
       "      <td>John</td>\n",
       "      <td>Giovanni Ribisi</td>\n",
       "      <td>1771</td>\n",
       "    </tr>\n",
       "    <tr>\n",
       "      <th>4</th>\n",
       "      <td>Ms. Kawasaki</td>\n",
       "      <td>Akiko Takeshita</td>\n",
       "      <td>1770</td>\n",
       "    </tr>\n",
       "  </tbody>\n",
       "</table>\n",
       "</div>"
      ],
      "text/plain": [
       "      character                name    id\n",
       "0    Bob Harris         Bill Murray  1532\n",
       "1     Charlotte  Scarlett Johansson  1245\n",
       "2         Kelly          Anna Faris  1772\n",
       "3          John     Giovanni Ribisi  1771\n",
       "4  Ms. Kawasaki     Akiko Takeshita  1770"
      ]
     },
     "execution_count": 21,
     "metadata": {},
     "output_type": "execute_result"
    }
   ],
   "source": [
    "pd.DataFrame(lostintranslation.credits()['cast'])[[\"character\",\"name\", \"id\"]].head()"
   ]
  },
  {
   "cell_type": "code",
   "execution_count": 22,
   "metadata": {
    "collapsed": false
   },
   "outputs": [
    {
     "data": {
      "text/html": [
       "<div>\n",
       "<table border=\"1\" class=\"dataframe\">\n",
       "  <thead>\n",
       "    <tr style=\"text-align: right;\">\n",
       "      <th></th>\n",
       "      <th>job</th>\n",
       "      <th>name</th>\n",
       "      <th>id</th>\n",
       "    </tr>\n",
       "  </thead>\n",
       "  <tbody>\n",
       "    <tr>\n",
       "      <th>0</th>\n",
       "      <td>Director</td>\n",
       "      <td>Sofia Coppola</td>\n",
       "      <td>1769</td>\n",
       "    </tr>\n",
       "    <tr>\n",
       "      <th>1</th>\n",
       "      <td>Producer</td>\n",
       "      <td>Francis Ford Coppola</td>\n",
       "      <td>1776</td>\n",
       "    </tr>\n",
       "    <tr>\n",
       "      <th>2</th>\n",
       "      <td>Set Decoration</td>\n",
       "      <td>Tomomi Nishio</td>\n",
       "      <td>1676654</td>\n",
       "    </tr>\n",
       "    <tr>\n",
       "      <th>3</th>\n",
       "      <td>Producer</td>\n",
       "      <td>Sofia Coppola</td>\n",
       "      <td>1769</td>\n",
       "    </tr>\n",
       "    <tr>\n",
       "      <th>4</th>\n",
       "      <td>Producer</td>\n",
       "      <td>Ross Katz</td>\n",
       "      <td>1777</td>\n",
       "    </tr>\n",
       "  </tbody>\n",
       "</table>\n",
       "</div>"
      ],
      "text/plain": [
       "              job                  name       id\n",
       "0        Director         Sofia Coppola     1769\n",
       "1        Producer  Francis Ford Coppola     1776\n",
       "2  Set Decoration         Tomomi Nishio  1676654\n",
       "3        Producer         Sofia Coppola     1769\n",
       "4        Producer             Ross Katz     1777"
      ]
     },
     "execution_count": 22,
     "metadata": {},
     "output_type": "execute_result"
    }
   ],
   "source": [
    "pd.DataFrame(lostintranslation.credits()['crew'])[[\"job\", \"name\", \"id\"]].head()"
   ]
  },
  {
   "cell_type": "markdown",
   "metadata": {},
   "source": [
    "Scarlett Johansson have played in Action movies recently but director Sofia Coppola has been mostly working on dramas. \n",
    "\n",
    "Can we use the list of cast and crew to classify movies by genre? \n",
    "\n",
    "\n",
    "## 4. Genre of the movie"
   ]
  },
  {
   "cell_type": "code",
   "execution_count": 23,
   "metadata": {
    "collapsed": false
   },
   "outputs": [
    {
     "name": "stdout",
     "output_type": "stream",
     "text": [
      "TMDB's genre id: 18\n",
      "TMDB's genre name: Drama\n"
     ]
    }
   ],
   "source": [
    "print \"TMDB's genre id:\" , lostintranslation.info()['genres'][0][\"id\"]\n",
    "print \"TMDB's genre name:\" , lostintranslation.info()['genres'][0][\"name\"]"
   ]
  },
  {
   "cell_type": "code",
   "execution_count": 24,
   "metadata": {
    "collapsed": false
   },
   "outputs": [
    {
     "name": "stdout",
     "output_type": "stream",
     "text": [
      "IMDB's genre: Drama\n"
     ]
    }
   ],
   "source": [
    "print \"IMDB's genre:\", lostintranslation_imdb[\"genre\"][0]"
   ]
  },
  {
   "cell_type": "markdown",
   "metadata": {},
   "source": [
    "For this movie, the TMDB genre matches the one from IMDB."
   ]
  },
  {
   "cell_type": "markdown",
   "metadata": {},
   "source": [
    "## 5. 10 most popular movies of 2016 from TMDb\n",
    "\n",
    "Here is the code to download from TMDB the 10 most popular movies from 2016. Pairing a movie with it's genre is quite easy."
   ]
  },
  {
   "cell_type": "code",
   "execution_count": 26,
   "metadata": {
    "collapsed": false
   },
   "outputs": [
    {
     "name": "stdout",
     "output_type": "stream",
     "text": [
      "{u'poster_path': u'/s9ye87pvq2IaDvjv9x4IOXVjvA7.jpg', u'title': u'Sing', u'overview': u'A koala named Buster recruits his best friend to help him drum up business for his theater by hosting a singing competition.', u'release_date': u'2016-11-23', u'popularity': 66.294696, u'original_title': u'Sing', u'backdrop_path': u'/fxDXp8un4qNY9b1dLd7SH6CKzC.jpg', u'vote_count': 1192, u'video': False, u'adult': False, u'vote_average': 6.7, u'original_language': u'en', u'id': 335797, u'genre_ids': [16, 35, 18, 10751, 10402]}\n",
      "{u'poster_path': u'/gri0DDxsERr6B2sOR1fGLxLpSLx.jpg', u'title': u'Fantastic Beasts and Where to Find Them', u'overview': u'In 1926, Newt Scamander arrives at the Magical Congress of the United States of America with a magically expanded briefcase, which houses a number of dangerous creatures and their habitats. When the creatures escape from the briefcase, it sends the American wizarding authorities after Newt, and threatens to strain even further the state of magical and non-magical relations.', u'release_date': u'2016-11-16', u'popularity': 38.717677, u'original_title': u'Fantastic Beasts and Where to Find Them', u'backdrop_path': u'/kMzU4PkXcKcDMngCxXji0BbVXsu.jpg', u'vote_count': 3361, u'video': False, u'adult': False, u'vote_average': 7, u'original_language': u'en', u'id': 259316, u'genre_ids': [12, 28, 14]}\n",
      "{u'poster_path': u'/qjiskwlV1qQzRCjpV0cL9pEMF9a.jpg', u'title': u'Rogue One: A Star Wars Story', u'overview': u'A rogue band of resistance fighters unite for a mission to steal the Death Star plans and bring a new hope to the galaxy.', u'release_date': u'2016-12-14', u'popularity': 34.246934, u'original_title': u'Rogue One: A Star Wars Story', u'backdrop_path': u'/tZjVVIYXACV4IIIhXeIM59ytqwS.jpg', u'vote_count': 3143, u'video': False, u'adult': False, u'vote_average': 7.3, u'original_language': u'en', u'id': 330459, u'genre_ids': [28, 18, 878, 10752]}\n",
      "{u'poster_path': u'/z09QAf8WbZncbitewNk6lKYMZsh.jpg', u'title': u'Finding Dory', u'overview': u'Dory is reunited with her friends Nemo and Marlin in the search for answers about her past. What can she remember? Who are her parents? And where did she learn to speak Whale?', u'release_date': u'2016-06-16', u'popularity': 31.222624, u'original_title': u'Finding Dory', u'backdrop_path': u'/iWRKYHTFlsrxQtfQqFOQyceL83P.jpg', u'vote_count': 3000, u'video': False, u'adult': False, u'vote_average': 6.7, u'original_language': u'en', u'id': 127380, u'genre_ids': [12, 16, 35, 10751]}\n",
      "{u'poster_path': u'/aqiK5aOZmxvtLcY04B1fFeEJLV1.jpg', u'title': u'Boyka: Undisputed IV', u'overview': u'In the fourth installment of the fighting franchise, Boyka is shooting for the big leagues when an accidental death in the ring makes him question everything he stands for. When he finds out the wife of the man he accidentally killed is in trouble, Boyka offers to fight in a series of impossible battles to free her from a life of servitude', u'release_date': u'2016-09-22', u'popularity': 27.154209, u'original_title': u'Boyka: Undisputed IV', u'backdrop_path': u'/cGc5jUgAvcmA9kBCvtNDvlT4LpR.jpg', u'vote_count': 87, u'video': False, u'adult': False, u'vote_average': 5.9, u'original_language': u'en', u'id': 348893, u'genre_ids': [28]}\n"
     ]
    },
    {
     "data": {
      "text/html": [
       "<div>\n",
       "<table border=\"1\" class=\"dataframe\">\n",
       "  <thead>\n",
       "    <tr style=\"text-align: right;\">\n",
       "      <th></th>\n",
       "      <th>title</th>\n",
       "      <th>id</th>\n",
       "      <th>release_date</th>\n",
       "      <th>popularity</th>\n",
       "      <th>genre_ids</th>\n",
       "    </tr>\n",
       "  </thead>\n",
       "  <tbody>\n",
       "    <tr>\n",
       "      <th>0</th>\n",
       "      <td>Sing</td>\n",
       "      <td>335797</td>\n",
       "      <td>2016-11-23</td>\n",
       "      <td>66.2947</td>\n",
       "      <td>[16, 35, 18, 10751, 10402]</td>\n",
       "    </tr>\n",
       "    <tr>\n",
       "      <th>1</th>\n",
       "      <td>Fantastic Beasts and Where to Find Them</td>\n",
       "      <td>259316</td>\n",
       "      <td>2016-11-16</td>\n",
       "      <td>38.7177</td>\n",
       "      <td>[12, 28, 14]</td>\n",
       "    </tr>\n",
       "    <tr>\n",
       "      <th>2</th>\n",
       "      <td>Rogue One: A Star Wars Story</td>\n",
       "      <td>330459</td>\n",
       "      <td>2016-12-14</td>\n",
       "      <td>34.2469</td>\n",
       "      <td>[28, 18, 878, 10752]</td>\n",
       "    </tr>\n",
       "    <tr>\n",
       "      <th>3</th>\n",
       "      <td>Finding Dory</td>\n",
       "      <td>127380</td>\n",
       "      <td>2016-06-16</td>\n",
       "      <td>31.2226</td>\n",
       "      <td>[12, 16, 35, 10751]</td>\n",
       "    </tr>\n",
       "    <tr>\n",
       "      <th>4</th>\n",
       "      <td>Boyka: Undisputed IV</td>\n",
       "      <td>348893</td>\n",
       "      <td>2016-09-22</td>\n",
       "      <td>27.1542</td>\n",
       "      <td>[28]</td>\n",
       "    </tr>\n",
       "    <tr>\n",
       "      <th>5</th>\n",
       "      <td>NaN</td>\n",
       "      <td>NaN</td>\n",
       "      <td>NaN</td>\n",
       "      <td>NaN</td>\n",
       "      <td>NaN</td>\n",
       "    </tr>\n",
       "    <tr>\n",
       "      <th>6</th>\n",
       "      <td>NaN</td>\n",
       "      <td>NaN</td>\n",
       "      <td>NaN</td>\n",
       "      <td>NaN</td>\n",
       "      <td>NaN</td>\n",
       "    </tr>\n",
       "    <tr>\n",
       "      <th>7</th>\n",
       "      <td>NaN</td>\n",
       "      <td>NaN</td>\n",
       "      <td>NaN</td>\n",
       "      <td>NaN</td>\n",
       "      <td>NaN</td>\n",
       "    </tr>\n",
       "    <tr>\n",
       "      <th>8</th>\n",
       "      <td>NaN</td>\n",
       "      <td>NaN</td>\n",
       "      <td>NaN</td>\n",
       "      <td>NaN</td>\n",
       "      <td>NaN</td>\n",
       "    </tr>\n",
       "    <tr>\n",
       "      <th>9</th>\n",
       "      <td>NaN</td>\n",
       "      <td>NaN</td>\n",
       "      <td>NaN</td>\n",
       "      <td>NaN</td>\n",
       "      <td>NaN</td>\n",
       "    </tr>\n",
       "  </tbody>\n",
       "</table>\n",
       "</div>"
      ],
      "text/plain": [
       "                                     title      id release_date popularity  \\\n",
       "0                                     Sing  335797   2016-11-23    66.2947   \n",
       "1  Fantastic Beasts and Where to Find Them  259316   2016-11-16    38.7177   \n",
       "2             Rogue One: A Star Wars Story  330459   2016-12-14    34.2469   \n",
       "3                             Finding Dory  127380   2016-06-16    31.2226   \n",
       "4                     Boyka: Undisputed IV  348893   2016-09-22    27.1542   \n",
       "5                                      NaN     NaN          NaN        NaN   \n",
       "6                                      NaN     NaN          NaN        NaN   \n",
       "7                                      NaN     NaN          NaN        NaN   \n",
       "8                                      NaN     NaN          NaN        NaN   \n",
       "9                                      NaN     NaN          NaN        NaN   \n",
       "\n",
       "                    genre_ids  \n",
       "0  [16, 35, 18, 10751, 10402]  \n",
       "1                [12, 28, 14]  \n",
       "2        [28, 18, 878, 10752]  \n",
       "3         [12, 16, 35, 10751]  \n",
       "4                        [28]  \n",
       "5                         NaN  \n",
       "6                         NaN  \n",
       "7                         NaN  \n",
       "8                         NaN  \n",
       "9                         NaN  "
      ]
     },
     "execution_count": 26,
     "metadata": {},
     "output_type": "execute_result"
    }
   ],
   "source": [
    "# Indicate the number of pages (20 results per page)\n",
    "discover = tmdb.Discover()\n",
    "response = discover.movie(primary_release_year=2016, sort_by='popularity.desc')\n",
    "df_2016 = pd.DataFrame(index = range(10), columns = [[\"title\", \"id\", \"release_date\", \"popularity\", \"genre_ids\"]])\n",
    "for k, s in zip(range(5), discover.results[:5]):\n",
    "    print s\n",
    "    df_2016.iloc[k] = dict(title = s['title'], id = s['id'], release_date = s['release_date'], popularity = s['popularity'], genre_ids = s[\"genre_ids\"])\n",
    "df_2016"
   ]
  },
  {
   "cell_type": "markdown",
   "metadata": {},
   "source": [
    "## 6. 60 years of top 100\n",
    "\n",
    "We wanted to go a bit further and downloaded the 100 most popular movies of each year for the last 60 years.\n",
    "\n",
    "### 6.1 Download data from TMDB"
   ]
  },
  {
   "cell_type": "code",
   "execution_count": 2,
   "metadata": {
    "collapsed": false
   },
   "outputs": [
    {
     "data": {
      "text/html": [
       "<div>\n",
       "<table border=\"1\" class=\"dataframe\">\n",
       "  <thead>\n",
       "    <tr style=\"text-align: right;\">\n",
       "      <th></th>\n",
       "      <th>title</th>\n",
       "      <th>id</th>\n",
       "      <th>release_date</th>\n",
       "      <th>popularity</th>\n",
       "      <th>poster_path</th>\n",
       "      <th>genre_ids</th>\n",
       "    </tr>\n",
       "  </thead>\n",
       "  <tbody>\n",
       "    <tr>\n",
       "      <th>195</th>\n",
       "      <td>Solace</td>\n",
       "      <td>339527</td>\n",
       "      <td>2015-09-03</td>\n",
       "      <td>2.66507</td>\n",
       "      <td>/4MkNIKVZxYkga4208RXdRZ76zjf.jpg</td>\n",
       "      <td>[80, 18, 9648]</td>\n",
       "    </tr>\n",
       "    <tr>\n",
       "      <th>196</th>\n",
       "      <td>Project Almanac</td>\n",
       "      <td>227719</td>\n",
       "      <td>2015-01-30</td>\n",
       "      <td>2.63694</td>\n",
       "      <td>/g3Krq7P7pkgjWpzUDA6lrniiSJ7.jpg</td>\n",
       "      <td>[878, 53]</td>\n",
       "    </tr>\n",
       "    <tr>\n",
       "      <th>197</th>\n",
       "      <td>Entourage</td>\n",
       "      <td>188222</td>\n",
       "      <td>2015-06-03</td>\n",
       "      <td>2.59071</td>\n",
       "      <td>/lR4dwcfgCBMklKjiQXuFzRM3gfl.jpg</td>\n",
       "      <td>[35]</td>\n",
       "    </tr>\n",
       "    <tr>\n",
       "      <th>198</th>\n",
       "      <td>Maggie</td>\n",
       "      <td>287424</td>\n",
       "      <td>2015-05-08</td>\n",
       "      <td>2.58368</td>\n",
       "      <td>/mFt7Oo3pf8f1BZAdWLyUpYM63aT.jpg</td>\n",
       "      <td>[27]</td>\n",
       "    </tr>\n",
       "    <tr>\n",
       "      <th>199</th>\n",
       "      <td>Concussion</td>\n",
       "      <td>321741</td>\n",
       "      <td>2015-11-12</td>\n",
       "      <td>2.54387</td>\n",
       "      <td>/vdK1f9kpY5QEwrAiXs9R7PlerNC.jpg</td>\n",
       "      <td>[18]</td>\n",
       "    </tr>\n",
       "  </tbody>\n",
       "</table>\n",
       "</div>"
      ],
      "text/plain": [
       "               title      id release_date popularity  \\\n",
       "195           Solace  339527   2015-09-03    2.66507   \n",
       "196  Project Almanac  227719   2015-01-30    2.63694   \n",
       "197        Entourage  188222   2015-06-03    2.59071   \n",
       "198           Maggie  287424   2015-05-08    2.58368   \n",
       "199       Concussion  321741   2015-11-12    2.54387   \n",
       "\n",
       "                          poster_path       genre_ids  \n",
       "195  /4MkNIKVZxYkga4208RXdRZ76zjf.jpg  [80, 18, 9648]  \n",
       "196  /g3Krq7P7pkgjWpzUDA6lrniiSJ7.jpg       [878, 53]  \n",
       "197  /lR4dwcfgCBMklKjiQXuFzRM3gfl.jpg            [35]  \n",
       "198  /mFt7Oo3pf8f1BZAdWLyUpYM63aT.jpg            [27]  \n",
       "199  /vdK1f9kpY5QEwrAiXs9R7PlerNC.jpg            [18]  "
      ]
     },
     "execution_count": 2,
     "metadata": {},
     "output_type": "execute_result"
    }
   ],
   "source": [
    "# Dowload the 100 most popular movie of the pas 60 years\n",
    "\n",
    "# DO NOT RE RUN THE CODE. CSV FILE CREATED IN NEXT CELL AND UPLOADED TO GIT\n",
    "df = pd.DataFrame(index = range(200), columns = [[\"title\", \"id\", \"release_date\", \"popularity\", \"poster_path\", \"genre_ids\"]])\n",
    "\n",
    "i=0\n",
    "for y in range(2):\n",
    "    for p in range(5):\n",
    "        discover = tmdb.Discover()\n",
    "        response = discover.movie(page = (p+1), primary_release_year=(2016-y), sort_by='popularity.desc')\n",
    "        time.sleep(1) \n",
    "        for k, s in zip(range(20*i,20*(i+1)), discover.results):\n",
    "            df.iloc[k] = dict(title = s['title'], id = s['id'], release_date = s['release_date'], popularity = s['popularity'], \n",
    "                              poster_path = s[\"poster_path\"], genre_ids = s[\"genre_ids\"])\n",
    "        i+=1\n",
    "df.to_csv('tmdb2years.csv', encoding='utf-8')  \n",
    "df.tail()"
   ]
  },
  {
   "cell_type": "code",
   "execution_count": 4,
   "metadata": {
    "collapsed": false
   },
   "outputs": [
    {
     "data": {
      "text/plain": [
       "0      None\n",
       "1      None\n",
       "2      None\n",
       "3      None\n",
       "4      None\n",
       "5      None\n",
       "6      None\n",
       "7      None\n",
       "8      None\n",
       "9      None\n",
       "10     None\n",
       "11     None\n",
       "12     None\n",
       "13     None\n",
       "14     None\n",
       "15     None\n",
       "16     None\n",
       "17     None\n",
       "18     None\n",
       "19     None\n",
       "20     None\n",
       "21     None\n",
       "22     None\n",
       "23     None\n",
       "24     None\n",
       "25     None\n",
       "26     None\n",
       "27     None\n",
       "28     None\n",
       "29     None\n",
       "       ... \n",
       "170    None\n",
       "171    None\n",
       "172    None\n",
       "173    None\n",
       "174    None\n",
       "175    None\n",
       "176    None\n",
       "177    None\n",
       "178    None\n",
       "179    None\n",
       "180    None\n",
       "181    None\n",
       "182    None\n",
       "183    None\n",
       "184    None\n",
       "185    None\n",
       "186    None\n",
       "187    None\n",
       "188    None\n",
       "189    None\n",
       "190    None\n",
       "191    None\n",
       "192    None\n",
       "193    None\n",
       "194    None\n",
       "195    None\n",
       "196    None\n",
       "197    None\n",
       "198    None\n",
       "199    None\n",
       "dtype: object"
      ]
     },
     "execution_count": 4,
     "metadata": {},
     "output_type": "execute_result"
    }
   ],
   "source": [
    "base_url = 'http://image.tmdb.org/t/p/original/'\n",
    "import urllib\n",
    "def url2poster(movie):\n",
    "    url = base_url+movie['poster_path']\n",
    "    urllib.urlretrieve(url, './movie_posters1/'+str(movie['id'])+\".jpg\")\n",
    "    time.sleep(0.05)\n",
    "    \n",
    "df[pd.notnull(df['poster_path'])].apply(url2poster, axis = 1)"
   ]
  },
  {
   "cell_type": "code",
   "execution_count": 8,
   "metadata": {
    "collapsed": false
   },
   "outputs": [],
   "source": [
    "import os\n",
    "import PIL\n",
    "from PIL import Image\n",
    "images = os.listdir(\"./movie_posters1\")\n",
    "basewidth = 300\n",
    "for img_jpg in images:\n",
    "    img = Image.open('./movie_posters1/' + str(img_jpg))\n",
    "    #img = Image.open(base_url+'5vHssUeVe25bMrof1HyaPyWgaP.jpg')\n",
    "    #wpercent = (basewidth/float(img.size[0]))\n",
    "    #hsize = int((float(img.size[1])*float(wpercent)))\n",
    "    img = img.resize((350,500), PIL.Image.ANTIALIAS)\n",
    "    img.save('./resized/'+str(img_jpg))"
   ]
  },
  {
   "cell_type": "code",
   "execution_count": 10,
   "metadata": {
    "collapsed": false
   },
   "outputs": [
    {
     "data": {
      "text/html": [
       "<div>\n",
       "<table border=\"1\" class=\"dataframe\">\n",
       "  <thead>\n",
       "    <tr style=\"text-align: right;\">\n",
       "      <th></th>\n",
       "      <th>Unnamed: 0</th>\n",
       "      <th>title</th>\n",
       "      <th>id</th>\n",
       "      <th>release_date</th>\n",
       "      <th>popularity</th>\n",
       "      <th>poster_path</th>\n",
       "      <th>genre1</th>\n",
       "      <th>genre2</th>\n",
       "      <th>genre3</th>\n",
       "      <th>genre4</th>\n",
       "      <th>genre5</th>\n",
       "      <th>Unnamed: 11</th>\n",
       "    </tr>\n",
       "  </thead>\n",
       "  <tbody>\n",
       "    <tr>\n",
       "      <th>0</th>\n",
       "      <td>0</td>\n",
       "      <td>Sing</td>\n",
       "      <td>335797</td>\n",
       "      <td>11/23/2016</td>\n",
       "      <td>52.849585</td>\n",
       "      <td>/eSVtBB2PVFbQiFWC7CQi3EjIZnn.jpg</td>\n",
       "      <td>16</td>\n",
       "      <td>35.0</td>\n",
       "      <td>18.0</td>\n",
       "      <td>10751.0</td>\n",
       "      <td>10402.0</td>\n",
       "      <td>NaN</td>\n",
       "    </tr>\n",
       "    <tr>\n",
       "      <th>1</th>\n",
       "      <td>1</td>\n",
       "      <td>Split</td>\n",
       "      <td>381288</td>\n",
       "      <td>11/15/2016</td>\n",
       "      <td>31.706741</td>\n",
       "      <td>/rXMWOZiCt6eMX22jWuTOSdQ98bY.jpg</td>\n",
       "      <td>27</td>\n",
       "      <td>53.0</td>\n",
       "      <td>NaN</td>\n",
       "      <td>NaN</td>\n",
       "      <td>NaN</td>\n",
       "      <td>NaN</td>\n",
       "    </tr>\n",
       "    <tr>\n",
       "      <th>2</th>\n",
       "      <td>2</td>\n",
       "      <td>Fantastic Beasts and Where to Find Them</td>\n",
       "      <td>259316</td>\n",
       "      <td>11/16/2016</td>\n",
       "      <td>29.288592</td>\n",
       "      <td>/dXwbjYyZH1Se0IS3oVcPdvueLKd.jpg</td>\n",
       "      <td>28</td>\n",
       "      <td>12.0</td>\n",
       "      <td>14.0</td>\n",
       "      <td>NaN</td>\n",
       "      <td>NaN</td>\n",
       "      <td>NaN</td>\n",
       "    </tr>\n",
       "    <tr>\n",
       "      <th>3</th>\n",
       "      <td>3</td>\n",
       "      <td>Rogue One: A Star Wars Story</td>\n",
       "      <td>330459</td>\n",
       "      <td>12/14/2016</td>\n",
       "      <td>27.319649</td>\n",
       "      <td>/qjiskwlV1qQzRCjpV0cL9pEMF9a.jpg</td>\n",
       "      <td>28</td>\n",
       "      <td>18.0</td>\n",
       "      <td>878.0</td>\n",
       "      <td>10752.0</td>\n",
       "      <td>NaN</td>\n",
       "      <td>NaN</td>\n",
       "    </tr>\n",
       "    <tr>\n",
       "      <th>4</th>\n",
       "      <td>4</td>\n",
       "      <td>Deadpool</td>\n",
       "      <td>293660</td>\n",
       "      <td>2/9/2016</td>\n",
       "      <td>26.911966</td>\n",
       "      <td>/inVq3FRqcYIRl2la8iZikYYxFNR.jpg</td>\n",
       "      <td>28</td>\n",
       "      <td>12.0</td>\n",
       "      <td>35.0</td>\n",
       "      <td>10749.0</td>\n",
       "      <td>NaN</td>\n",
       "      <td>NaN</td>\n",
       "    </tr>\n",
       "  </tbody>\n",
       "</table>\n",
       "</div>"
      ],
      "text/plain": [
       "   Unnamed: 0                                    title      id release_date  \\\n",
       "0           0                                     Sing  335797   11/23/2016   \n",
       "1           1                                    Split  381288   11/15/2016   \n",
       "2           2  Fantastic Beasts and Where to Find Them  259316   11/16/2016   \n",
       "3           3             Rogue One: A Star Wars Story  330459   12/14/2016   \n",
       "4           4                                 Deadpool  293660     2/9/2016   \n",
       "\n",
       "   popularity                       poster_path  genre1  genre2  genre3  \\\n",
       "0   52.849585  /eSVtBB2PVFbQiFWC7CQi3EjIZnn.jpg      16    35.0    18.0   \n",
       "1   31.706741  /rXMWOZiCt6eMX22jWuTOSdQ98bY.jpg      27    53.0     NaN   \n",
       "2   29.288592  /dXwbjYyZH1Se0IS3oVcPdvueLKd.jpg      28    12.0    14.0   \n",
       "3   27.319649  /qjiskwlV1qQzRCjpV0cL9pEMF9a.jpg      28    18.0   878.0   \n",
       "4   26.911966  /inVq3FRqcYIRl2la8iZikYYxFNR.jpg      28    12.0    35.0   \n",
       "\n",
       "    genre4   genre5 Unnamed: 11  \n",
       "0  10751.0  10402.0         NaN  \n",
       "1      NaN      NaN         NaN  \n",
       "2      NaN      NaN         NaN  \n",
       "3  10752.0      NaN         NaN  \n",
       "4  10749.0      NaN         NaN  "
      ]
     },
     "execution_count": 10,
     "metadata": {},
     "output_type": "execute_result"
    }
   ],
   "source": [
    "df = pd.read_csv(\"tmdb2years.csv\")\n",
    "df.head()"
   ]
  },
  {
   "cell_type": "code",
   "execution_count": 17,
   "metadata": {
    "collapsed": false
   },
   "outputs": [
    {
     "data": {
      "text/html": [
       "<div>\n",
       "<table border=\"1\" class=\"dataframe\">\n",
       "  <thead>\n",
       "    <tr style=\"text-align: right;\">\n",
       "      <th></th>\n",
       "      <th>title</th>\n",
       "      <th>id</th>\n",
       "      <th>release_date</th>\n",
       "      <th>popularity</th>\n",
       "      <th>genre_ids</th>\n",
       "    </tr>\n",
       "  </thead>\n",
       "  <tbody>\n",
       "    <tr>\n",
       "      <th>5995</th>\n",
       "      <td>Johnny Tremain</td>\n",
       "      <td>43229</td>\n",
       "      <td>1957-06-15</td>\n",
       "      <td>1.092711</td>\n",
       "      <td>[18, 10751]</td>\n",
       "    </tr>\n",
       "    <tr>\n",
       "      <th>5996</th>\n",
       "      <td>The Big Caper</td>\n",
       "      <td>83578</td>\n",
       "      <td>1957-03-28</td>\n",
       "      <td>1.090697</td>\n",
       "      <td>[18, 53, 80]</td>\n",
       "    </tr>\n",
       "    <tr>\n",
       "      <th>5997</th>\n",
       "      <td>Kiss Them for Me</td>\n",
       "      <td>52367</td>\n",
       "      <td>1957-12-10</td>\n",
       "      <td>1.090529</td>\n",
       "      <td>[35, 10749, 10752]</td>\n",
       "    </tr>\n",
       "    <tr>\n",
       "      <th>5998</th>\n",
       "      <td>Timid Tabby</td>\n",
       "      <td>92297</td>\n",
       "      <td>1957-04-19</td>\n",
       "      <td>1.089144</td>\n",
       "      <td>[35, 16, 10751]</td>\n",
       "    </tr>\n",
       "    <tr>\n",
       "      <th>5999</th>\n",
       "      <td>The Helen Morgan Story</td>\n",
       "      <td>111477</td>\n",
       "      <td>1957-10-05</td>\n",
       "      <td>1.088793</td>\n",
       "      <td>[18, 10402, 10749]</td>\n",
       "    </tr>\n",
       "  </tbody>\n",
       "</table>\n",
       "</div>"
      ],
      "text/plain": [
       "                       title      id release_date  popularity  \\\n",
       "5995          Johnny Tremain   43229   1957-06-15    1.092711   \n",
       "5996           The Big Caper   83578   1957-03-28    1.090697   \n",
       "5997        Kiss Them for Me   52367   1957-12-10    1.090529   \n",
       "5998             Timid Tabby   92297   1957-04-19    1.089144   \n",
       "5999  The Helen Morgan Story  111477   1957-10-05    1.088793   \n",
       "\n",
       "               genre_ids  \n",
       "5995         [18, 10751]  \n",
       "5996        [18, 53, 80]  \n",
       "5997  [35, 10749, 10752]  \n",
       "5998     [35, 16, 10751]  \n",
       "5999  [18, 10402, 10749]  "
      ]
     },
     "execution_count": 17,
     "metadata": {},
     "output_type": "execute_result"
    }
   ],
   "source": [
    "from ast import literal_eval\n",
    "\n",
    "# Do not re-run the code.... just use the uploaded csv file\n",
    "#df = pd.read_csv(r'tmdb60years.csv')\n",
    "df = pd.read_csv('https://raw.githubusercontent.com/satkuma/cs109B_public/master/tmdb60years.csv')\n",
    "df = df.drop('Unnamed: 0', 1)\n",
    "df['genre_ids'] = df['genre_ids'].apply(literal_eval)\n",
    "df.tail()"
   ]
  },
  {
   "cell_type": "markdown",
   "metadata": {},
   "source": [
    "You can find below the table that link genres' id and their name.\n",
    "\n",
    "### 6.2 List of genres"
   ]
  },
  {
   "cell_type": "code",
   "execution_count": 5,
   "metadata": {
    "collapsed": false
   },
   "outputs": [
    {
     "data": {
      "text/html": [
       "<div>\n",
       "<table border=\"1\" class=\"dataframe\">\n",
       "  <thead>\n",
       "    <tr style=\"text-align: right;\">\n",
       "      <th></th>\n",
       "      <th>main genre</th>\n",
       "      <th>main genre name</th>\n",
       "    </tr>\n",
       "  </thead>\n",
       "  <tbody>\n",
       "    <tr>\n",
       "      <th>0</th>\n",
       "      <td>28</td>\n",
       "      <td>Action</td>\n",
       "    </tr>\n",
       "    <tr>\n",
       "      <th>1</th>\n",
       "      <td>12</td>\n",
       "      <td>Adventure</td>\n",
       "    </tr>\n",
       "    <tr>\n",
       "      <th>2</th>\n",
       "      <td>16</td>\n",
       "      <td>Animation</td>\n",
       "    </tr>\n",
       "    <tr>\n",
       "      <th>3</th>\n",
       "      <td>35</td>\n",
       "      <td>Comedy</td>\n",
       "    </tr>\n",
       "    <tr>\n",
       "      <th>4</th>\n",
       "      <td>80</td>\n",
       "      <td>Crime</td>\n",
       "    </tr>\n",
       "    <tr>\n",
       "      <th>5</th>\n",
       "      <td>99</td>\n",
       "      <td>Documentary</td>\n",
       "    </tr>\n",
       "    <tr>\n",
       "      <th>6</th>\n",
       "      <td>18</td>\n",
       "      <td>Drama</td>\n",
       "    </tr>\n",
       "    <tr>\n",
       "      <th>7</th>\n",
       "      <td>10751</td>\n",
       "      <td>Family</td>\n",
       "    </tr>\n",
       "    <tr>\n",
       "      <th>8</th>\n",
       "      <td>14</td>\n",
       "      <td>Fantasy</td>\n",
       "    </tr>\n",
       "    <tr>\n",
       "      <th>9</th>\n",
       "      <td>36</td>\n",
       "      <td>History</td>\n",
       "    </tr>\n",
       "    <tr>\n",
       "      <th>10</th>\n",
       "      <td>27</td>\n",
       "      <td>Horror</td>\n",
       "    </tr>\n",
       "    <tr>\n",
       "      <th>11</th>\n",
       "      <td>10402</td>\n",
       "      <td>Music</td>\n",
       "    </tr>\n",
       "    <tr>\n",
       "      <th>12</th>\n",
       "      <td>9648</td>\n",
       "      <td>Mystery</td>\n",
       "    </tr>\n",
       "    <tr>\n",
       "      <th>13</th>\n",
       "      <td>10749</td>\n",
       "      <td>Romance</td>\n",
       "    </tr>\n",
       "    <tr>\n",
       "      <th>14</th>\n",
       "      <td>878</td>\n",
       "      <td>Science Fiction</td>\n",
       "    </tr>\n",
       "    <tr>\n",
       "      <th>15</th>\n",
       "      <td>10770</td>\n",
       "      <td>TV Movie</td>\n",
       "    </tr>\n",
       "    <tr>\n",
       "      <th>16</th>\n",
       "      <td>53</td>\n",
       "      <td>Thriller</td>\n",
       "    </tr>\n",
       "    <tr>\n",
       "      <th>17</th>\n",
       "      <td>10752</td>\n",
       "      <td>War</td>\n",
       "    </tr>\n",
       "    <tr>\n",
       "      <th>18</th>\n",
       "      <td>37</td>\n",
       "      <td>Western</td>\n",
       "    </tr>\n",
       "  </tbody>\n",
       "</table>\n",
       "</div>"
      ],
      "text/plain": [
       "    main genre  main genre name\n",
       "0           28           Action\n",
       "1           12        Adventure\n",
       "2           16        Animation\n",
       "3           35           Comedy\n",
       "4           80            Crime\n",
       "5           99      Documentary\n",
       "6           18            Drama\n",
       "7        10751           Family\n",
       "8           14          Fantasy\n",
       "9           36          History\n",
       "10          27           Horror\n",
       "11       10402            Music\n",
       "12        9648          Mystery\n",
       "13       10749          Romance\n",
       "14         878  Science Fiction\n",
       "15       10770         TV Movie\n",
       "16          53         Thriller\n",
       "17       10752              War\n",
       "18          37          Western"
      ]
     },
     "execution_count": 5,
     "metadata": {},
     "output_type": "execute_result"
    }
   ],
   "source": [
    "url_genre = 'https://api.themoviedb.org/3/genre/movie/list?api_key={key}&language=en-US'.format(key=tmdb.API_KEY)\n",
    "r = requests.get(url_genre)\n",
    "list_genre = r.json()\n",
    "df_list_genres = pd.DataFrame(list_genre[\"genres\"])\n",
    "df_list_genres.columns = [\"main genre\" , \"main genre name\"]\n",
    "df_list_genres"
   ]
  },
  {
   "cell_type": "code",
   "execution_count": 18,
   "metadata": {
    "collapsed": false
   },
   "outputs": [
    {
     "data": {
      "text/html": [
       "<div>\n",
       "<table border=\"1\" class=\"dataframe\">\n",
       "  <thead>\n",
       "    <tr style=\"text-align: right;\">\n",
       "      <th></th>\n",
       "      <th>title</th>\n",
       "      <th>id</th>\n",
       "      <th>release_date</th>\n",
       "      <th>popularity</th>\n",
       "      <th>genre_ids</th>\n",
       "      <th>release_year</th>\n",
       "      <th>release_decade</th>\n",
       "      <th>main genre</th>\n",
       "      <th>main genre name</th>\n",
       "    </tr>\n",
       "  </thead>\n",
       "  <tbody>\n",
       "    <tr>\n",
       "      <th>1660</th>\n",
       "      <td>Night Passage</td>\n",
       "      <td>25381</td>\n",
       "      <td>1957-01-01</td>\n",
       "      <td>1.370028</td>\n",
       "      <td>[28, 18, 53, 37]</td>\n",
       "      <td>1957</td>\n",
       "      <td>1950</td>\n",
       "      <td>28.0</td>\n",
       "      <td>Action</td>\n",
       "    </tr>\n",
       "    <tr>\n",
       "      <th>3043</th>\n",
       "      <td>Witness for the Prosecution</td>\n",
       "      <td>37257</td>\n",
       "      <td>1957-01-01</td>\n",
       "      <td>2.056526</td>\n",
       "      <td>[18, 9648, 80]</td>\n",
       "      <td>1957</td>\n",
       "      <td>1950</td>\n",
       "      <td>18.0</td>\n",
       "      <td>Drama</td>\n",
       "    </tr>\n",
       "    <tr>\n",
       "      <th>4533</th>\n",
       "      <td>Crime of Passion</td>\n",
       "      <td>1920</td>\n",
       "      <td>1957-01-09</td>\n",
       "      <td>1.156651</td>\n",
       "      <td>[80, 18, 53]</td>\n",
       "      <td>1957</td>\n",
       "      <td>1950</td>\n",
       "      <td>80.0</td>\n",
       "      <td>Crime</td>\n",
       "    </tr>\n",
       "    <tr>\n",
       "      <th>3052</th>\n",
       "      <td>Throne of Blood</td>\n",
       "      <td>3777</td>\n",
       "      <td>1957-01-15</td>\n",
       "      <td>1.284247</td>\n",
       "      <td>[18, 36]</td>\n",
       "      <td>1957</td>\n",
       "      <td>1950</td>\n",
       "      <td>18.0</td>\n",
       "      <td>Drama</td>\n",
       "    </tr>\n",
       "    <tr>\n",
       "      <th>4853</th>\n",
       "      <td>20 Million Miles to Earth</td>\n",
       "      <td>15096</td>\n",
       "      <td>1957-02-08</td>\n",
       "      <td>1.267064</td>\n",
       "      <td>[878]</td>\n",
       "      <td>1957</td>\n",
       "      <td>1950</td>\n",
       "      <td>878.0</td>\n",
       "      <td>Science Fiction</td>\n",
       "    </tr>\n",
       "  </tbody>\n",
       "</table>\n",
       "</div>"
      ],
      "text/plain": [
       "                            title     id release_date  popularity  \\\n",
       "1660                Night Passage  25381   1957-01-01    1.370028   \n",
       "3043  Witness for the Prosecution  37257   1957-01-01    2.056526   \n",
       "4533             Crime of Passion   1920   1957-01-09    1.156651   \n",
       "3052              Throne of Blood   3777   1957-01-15    1.284247   \n",
       "4853    20 Million Miles to Earth  15096   1957-02-08    1.267064   \n",
       "\n",
       "             genre_ids  release_year  release_decade  main genre  \\\n",
       "1660  [28, 18, 53, 37]          1957            1950        28.0   \n",
       "3043    [18, 9648, 80]          1957            1950        18.0   \n",
       "4533      [80, 18, 53]          1957            1950        80.0   \n",
       "3052          [18, 36]          1957            1950        18.0   \n",
       "4853             [878]          1957            1950       878.0   \n",
       "\n",
       "      main genre name  \n",
       "1660           Action  \n",
       "3043            Drama  \n",
       "4533            Crime  \n",
       "3052            Drama  \n",
       "4853  Science Fiction  "
      ]
     },
     "execution_count": 18,
     "metadata": {},
     "output_type": "execute_result"
    }
   ],
   "source": [
    "def main_genre(x):\n",
    "    if (len(x)<>0):\n",
    "        return x[0]\n",
    "\n",
    "def year(x):\n",
    "    return x.year\n",
    "\n",
    "def decade(x):\n",
    "    return (x// 10) * 10\n",
    "\n",
    "df[\"release_date\"] = pd.to_datetime(df[\"release_date\"])\n",
    "df[\"release_year\"] = df[\"release_date\"].apply(year,1) \n",
    "df['release_decade'] = df['release_year'].apply(decade,1)\n",
    "df[\"main genre\"] = df[\"genre_ids\"].apply(main_genre,1)\n",
    "df = df.merge(df_list_genres, on='main genre')\n",
    "df = df.sort_values(\"release_date\")\n",
    "df.head()"
   ]
  },
  {
   "cell_type": "markdown",
   "metadata": {},
   "source": [
    "### 6.3 Distribution of Genres over 60 years"
   ]
  },
  {
   "cell_type": "code",
   "execution_count": 12,
   "metadata": {
    "collapsed": false
   },
   "outputs": [
    {
     "data": {
      "image/png": "[encoded data removed]",
      "text/plain": [
       "<matplotlib.figure.Figure at 0xbc75d68>"
      ]
     },
     "metadata": {},
     "output_type": "display_data"
    }
   ],
   "source": [
    "df[\"main genre name\"].value_counts(normalize=True).plot(kind='bar', figsize =(8,8))\n",
    "plt.title(\"Distribution of Genres\")\n",
    "plt.show()"
   ]
  },
  {
   "cell_type": "markdown",
   "metadata": {},
   "source": [
    "### 6.4 Evolution of the distribution of Genres"
   ]
  },
  {
   "cell_type": "code",
   "execution_count": 49,
   "metadata": {
    "collapsed": false
   },
   "outputs": [
    {
     "data": {
      "image/png": "[encoded data removed]",
      "text/plain": [
       "<matplotlib.figure.Figure at 0xe2abcc0>"
      ]
     },
     "metadata": {},
     "output_type": "display_data"
    }
   ],
   "source": [
    "# Frequency of Genre by year\n",
    "df['1']=1\n",
    "df_pivot = df.pivot_table(index=['release_decade'], values='1', columns =['main genre name'], aggfunc=sum, fill_value=0)\n",
    "df = df.drop('1',1)\n",
    "\n",
    "df2 = df_pivot.div(df_pivot.sum(axis=1), axis=0)\n",
    "df2[\"Other\"] = df2[[\"Thriller\", \"Animation\", \"Fantasy\", \"Romance\", \"Science Fiction\", \"Western\", \"Family\", \"Mystery\", \"War\", \"Music\", \"History\", \"Documentary\", \"TV Movie\"]].sum(1)\n",
    "\n",
    "df2[[\"Action\", \"Adventure\", \"Comedy\", \"Drama\", \"Horror\", \"Crime\", \"Other\"]].plot.bar(stacked=True, colormap='Pastel2', figsize=(12,10), title=\"Percentage of Genre by year\")\n",
    "plt.show()\n"
   ]
  },
  {
   "cell_type": "markdown",
   "metadata": {},
   "source": [
    "Looking at the top movies of the last 7 decades by genre, we see that Action movies have been gaining popularity over time (likely aided by exponential improvements in visual effects) while Dramas appear to decrease decade over decade.  Horror movies had a moment in the 70s and 80s, likely due to the success of series like Jaws and Texas Chainsaw Massacre.  Most other top-line genres remained fairly consistent over time, but another interesting thing to note is the increase in the Other category, which is essentially a catch-all for types like Film Noir and Indie. As festivals like the Sundance Film Festival continue to gain notoriety, there has likely been more funding for these niche genres."
   ]
  },
  {
   "cell_type": "markdown",
   "metadata": {
    "collapsed": false
   },
   "source": [
    "## 7. Budget vs Revenue\n",
    "\n",
    "Could two quantitative variables like budget and revenue can help us classifying movies?"
   ]
  },
  {
   "cell_type": "code",
   "execution_count": 110,
   "metadata": {
    "collapsed": false
   },
   "outputs": [
    {
     "data": {
      "text/html": [
       "<div>\n",
       "<table border=\"1\" class=\"dataframe\">\n",
       "  <thead>\n",
       "    <tr style=\"text-align: right;\">\n",
       "      <th></th>\n",
       "      <th>title</th>\n",
       "      <th>genre_ids</th>\n",
       "      <th>main genre</th>\n",
       "      <th>main genre name</th>\n",
       "      <th>budget</th>\n",
       "      <th>revenue</th>\n",
       "    </tr>\n",
       "  </thead>\n",
       "  <tbody>\n",
       "    <tr>\n",
       "      <th>0</th>\n",
       "      <td>Sing</td>\n",
       "      <td>[16, 35, 18, 10751, 10402]</td>\n",
       "      <td>16</td>\n",
       "      <td>Animation</td>\n",
       "      <td>75000000</td>\n",
       "      <td>601303829</td>\n",
       "    </tr>\n",
       "    <tr>\n",
       "      <th>1</th>\n",
       "      <td>Fantastic Beasts and Where to Find Them</td>\n",
       "      <td>[12, 28, 14]</td>\n",
       "      <td>12</td>\n",
       "      <td>Adventure</td>\n",
       "      <td>180000000</td>\n",
       "      <td>809342332</td>\n",
       "    </tr>\n",
       "    <tr>\n",
       "      <th>2</th>\n",
       "      <td>Finding Dory</td>\n",
       "      <td>[12, 16, 35, 10751]</td>\n",
       "      <td>12</td>\n",
       "      <td>Adventure</td>\n",
       "      <td>200000000</td>\n",
       "      <td>1028131226</td>\n",
       "    </tr>\n",
       "    <tr>\n",
       "      <th>3</th>\n",
       "      <td>Deadpool</td>\n",
       "      <td>[28, 12, 35, 10749]</td>\n",
       "      <td>28</td>\n",
       "      <td>Action</td>\n",
       "      <td>58000000</td>\n",
       "      <td>783112979</td>\n",
       "    </tr>\n",
       "    <tr>\n",
       "      <th>4</th>\n",
       "      <td>Rogue One: A Star Wars Story</td>\n",
       "      <td>[28, 18, 878, 10752]</td>\n",
       "      <td>28</td>\n",
       "      <td>Action</td>\n",
       "      <td>200000000</td>\n",
       "      <td>1053929274</td>\n",
       "    </tr>\n",
       "  </tbody>\n",
       "</table>\n",
       "</div>"
      ],
      "text/plain": [
       "                                     title                   genre_ids  \\\n",
       "0                                     Sing  [16, 35, 18, 10751, 10402]   \n",
       "1  Fantastic Beasts and Where to Find Them                [12, 28, 14]   \n",
       "2                             Finding Dory         [12, 16, 35, 10751]   \n",
       "3                                 Deadpool         [28, 12, 35, 10749]   \n",
       "4             Rogue One: A Star Wars Story        [28, 18, 878, 10752]   \n",
       "\n",
       "   main genre main genre name     budget     revenue  \n",
       "0          16       Animation   75000000   601303829  \n",
       "1          12       Adventure  180000000   809342332  \n",
       "2          12       Adventure  200000000  1028131226  \n",
       "3          28          Action   58000000   783112979  \n",
       "4          28          Action  200000000  1053929274  "
      ]
     },
     "execution_count": 110,
     "metadata": {},
     "output_type": "execute_result"
    }
   ],
   "source": [
    "def genre(x):\n",
    "    m = tmdb.Movies(x)\n",
    "    time.sleep(1)      ## slow down by 1sec the code to give time to the API to answer\n",
    "    g_id = m.info()['genres'][0][\"id\"]\n",
    "    g_name = m.info()['genres'][0][\"name\"]\n",
    "    budget = m.info()[\"budget\"]\n",
    "    revenue = m.info()[\"revenue\"]\n",
    "    return g_id, g_name, budget, revenue\n",
    "\n",
    "df[\"main genre\"], df[\"main genre name\"], df[\"budget\"], df[\"revenue\"] = zip(*df[\"id\"].apply(genre,1))\n",
    "\n",
    "df[[\"title\", \"genre_ids\", \"main genre\", \"main genre name\", \"budget\", \"revenue\"]].head()"
   ]
  },
  {
   "cell_type": "code",
   "execution_count": 122,
   "metadata": {
    "collapsed": false
   },
   "outputs": [
    {
     "data": {
      "image/png": "[encoded data removed]",
      "text/plain": [
       "<matplotlib.figure.Figure at 0xdb4b2e8>"
      ]
     },
     "metadata": {},
     "output_type": "display_data"
    }
   ],
   "source": [
    "fig, ax = plt.subplots(figsize=(8,8))\n",
    "colors = {'Animation':'blue', 'Drama':'green', 'Action':'red', 'Adventure':'gold', 'Comedy':'purple', 'Crime':'black', 'Thriller':'darkred', 'History':'lightblue'}\n",
    "ax.scatter(df_2016_all['budget'], df_2016_all['revenue'], s = 30, c = df_2016_all['main genre name'].apply(lambda x: colors[x]))\n",
    "plt.xlabel(\"budget\")\n",
    "plt.ylabel(\"revenue\")\n",
    "plt.title(\"Budget vs Revenue by Genre\")\n",
    "plt.show()"
   ]
  },
  {
   "cell_type": "markdown",
   "metadata": {},
   "source": [
    "## 8. Genres vs Rating\n",
    "\n",
    "We looked below at the distribution of ratings by genre."
   ]
  },
  {
   "cell_type": "code",
   "execution_count": 19,
   "metadata": {
    "collapsed": true
   },
   "outputs": [],
   "source": [
    "discover = tmdb.Discover()\n",
    "response = discover.movie(page = 1, primary_release_year=2016, certification_country='US', \n",
    "                          sort_by='vote_average.desc')"
   ]
  },
  {
   "cell_type": "code",
   "execution_count": 2,
   "metadata": {
    "collapsed": false
   },
   "outputs": [
    {
     "name": "stdout",
     "output_type": "stream",
     "text": [
      "2017\n",
      "2017-04-10\n"
     ]
    }
   ],
   "source": [
    "import datetime\n",
    "year = datetime.date.today().year\n",
    "print year\n",
    "print datetime.date.today()"
   ]
  },
  {
   "cell_type": "code",
   "execution_count": 21,
   "metadata": {
    "collapsed": false
   },
   "outputs": [],
   "source": [
    "#MILESTONE 2. Download all movies of Genre = \"Drama\" for Milestone 2. \n",
    "#Yohann / Hannah: Please change the genre and run the script.\n",
    "title = []\n",
    "ids = []\n",
    "release_date = []\n",
    "popularity = []\n",
    "genre_ids = []\n",
    "vote_average = []\n",
    "release_year = []\n",
    "\n",
    "#Genre ID: \n",
    "drama = 18\n",
    "for y in range(60):\n",
    "    response = discover.movie(page = 1, primary_release_year=2016-y, with_genres=drama)\n",
    "    no_of_pages = discover.total_pages\n",
    "    for i in range(no_of_pages):\n",
    "        response = discover.movie(page = i+1, primary_release_year=2016-y, with_genres=drama)\n",
    "\n",
    "        for k, s in zip(range(len(discover.results)), discover.results):\n",
    "            title.append(s['title'])\n",
    "            ids.append(s['id'])\n",
    "            release_date.append(s['release_date'])\n",
    "            popularity.append(s['popularity'])\n",
    "            vote_average.append(s['vote_average'])\n",
    "            genre_ids.append(drama)\n",
    "            release_year.append(2016-y)\n",
    "\n",
    "df_all_movies = pd.DataFrame({'title': title, 'ids': ids, 'release_date': release_date, 'release_year' : release_year, \n",
    "                               'popularity': popularity, 'genre_ids': genre_ids, 'vote_average': vote_average})\n",
    "\n",
    "len(df_all_movies)\n",
    "df_all_movies.to_csv('movies1960_2016_drama.csv', encoding='utf-8')  \n"
   ]
  },
  {
   "cell_type": "code",
   "execution_count": 42,
   "metadata": {
    "collapsed": true
   },
   "outputs": [],
   "source": [
    "#DO NOT RE-RUN THE CODE. PLEASE USE THE UPLOADED CSV FILE IN THE NEXT CELL.\n",
    "no_of_pages = discover.total_pages\n",
    "\n",
    "title = []\n",
    "ids = []\n",
    "release_date = []\n",
    "popularity = []\n",
    "genre_ids = []\n",
    "vote_average = []\n",
    "\n",
    "for i in range(no_of_pages):\n",
    "    response = discover.movie(page = i+1, primary_release_year=2016, sort_by='vote_average.desc')\n",
    "\n",
    "    for k, s in zip(range(len(discover.results)), discover.results):\n",
    "        title.append(s['title'])\n",
    "        ids.append(s['id'])\n",
    "        release_date.append(s['release_date'])\n",
    "        popularity.append(s['popularity'])\n",
    "        vote_average.append(s['vote_average'])\n",
    "        genre_ids.append(s['genre_ids'][0] if s['genre_ids'] else 0 )\n",
    "        #df_2016_iterator.iloc[k] = dict(title = s['title'], id = s['id'], release_date = s['release_date'], popularity = s['popularity'], genre_ids = s[\"genre_ids\"])\n",
    "\n",
    "df_2016_all_movies = pd.DataFrame({'title': title, 'ids': ids, 'release_date': release_date, \n",
    "                               'popularity': popularity, 'genre_ids': genre_ids, 'vote_average': vote_average})\n",
    "\n",
    "len(df_2016_all_movies)\n",
    "df_2016_all_movies.to_csv('2016movies.csv', encoding='utf-8')  \n"
   ]
  },
  {
   "cell_type": "code",
   "execution_count": 45,
   "metadata": {
    "collapsed": false
   },
   "outputs": [
    {
     "data": {
      "text/html": [
       "<div>\n",
       "<table border=\"1\" class=\"dataframe\">\n",
       "  <thead>\n",
       "    <tr style=\"text-align: right;\">\n",
       "      <th></th>\n",
       "      <th>Unnamed: 0</th>\n",
       "      <th>genre_ids</th>\n",
       "      <th>ids</th>\n",
       "      <th>popularity</th>\n",
       "      <th>release_date</th>\n",
       "      <th>title</th>\n",
       "      <th>vote_average</th>\n",
       "    </tr>\n",
       "  </thead>\n",
       "  <tbody>\n",
       "    <tr>\n",
       "      <th>0</th>\n",
       "      <td>0</td>\n",
       "      <td>878</td>\n",
       "      <td>421359</td>\n",
       "      <td>1.030704</td>\n",
       "      <td>2016-12-04</td>\n",
       "      <td>Alice and the Last Lottery</td>\n",
       "      <td>10.0</td>\n",
       "    </tr>\n",
       "    <tr>\n",
       "      <th>1</th>\n",
       "      <td>1</td>\n",
       "      <td>18</td>\n",
       "      <td>421374</td>\n",
       "      <td>1.023366</td>\n",
       "      <td>2016-09-30</td>\n",
       "      <td>Bliss</td>\n",
       "      <td>10.0</td>\n",
       "    </tr>\n",
       "    <tr>\n",
       "      <th>2</th>\n",
       "      <td>2</td>\n",
       "      <td>10402</td>\n",
       "      <td>421959</td>\n",
       "      <td>1.146234</td>\n",
       "      <td>2016-09-01</td>\n",
       "      <td>Babymetal Trilogy - Metal Resistance Episode I...</td>\n",
       "      <td>10.0</td>\n",
       "    </tr>\n",
       "    <tr>\n",
       "      <th>3</th>\n",
       "      <td>3</td>\n",
       "      <td>10749</td>\n",
       "      <td>422384</td>\n",
       "      <td>1.043027</td>\n",
       "      <td>2016-11-03</td>\n",
       "      <td>Verdad o reto</td>\n",
       "      <td>10.0</td>\n",
       "    </tr>\n",
       "    <tr>\n",
       "      <th>4</th>\n",
       "      <td>4</td>\n",
       "      <td>35</td>\n",
       "      <td>413192</td>\n",
       "      <td>1.012997</td>\n",
       "      <td>2016-08-24</td>\n",
       "      <td>Camp for the Broken-Hearted</td>\n",
       "      <td>10.0</td>\n",
       "    </tr>\n",
       "  </tbody>\n",
       "</table>\n",
       "</div>"
      ],
      "text/plain": [
       "   Unnamed: 0  genre_ids     ids  popularity release_date  \\\n",
       "0           0        878  421359    1.030704   2016-12-04   \n",
       "1           1         18  421374    1.023366   2016-09-30   \n",
       "2           2      10402  421959    1.146234   2016-09-01   \n",
       "3           3      10749  422384    1.043027   2016-11-03   \n",
       "4           4         35  413192    1.012997   2016-08-24   \n",
       "\n",
       "                                               title  vote_average  \n",
       "0                         Alice and the Last Lottery          10.0  \n",
       "1                                              Bliss          10.0  \n",
       "2  Babymetal Trilogy - Metal Resistance Episode I...          10.0  \n",
       "3                                      Verdad o reto          10.0  \n",
       "4                        Camp for the Broken-Hearted          10.0  "
      ]
     },
     "execution_count": 45,
     "metadata": {},
     "output_type": "execute_result"
    }
   ],
   "source": [
    "df_2016_all_movies = pd.read_csv('https://raw.githubusercontent.com/satkuma/cs109B_public/master/2016movies.csv')\n",
    "df_2016_all_movies.head()"
   ]
  },
  {
   "cell_type": "code",
   "execution_count": 46,
   "metadata": {
    "collapsed": false
   },
   "outputs": [
    {
     "data": {
      "text/html": [
       "<div>\n",
       "<table border=\"1\" class=\"dataframe\">\n",
       "  <thead>\n",
       "    <tr style=\"text-align: right;\">\n",
       "      <th></th>\n",
       "      <th>Genre_ID</th>\n",
       "      <th>Genre_Name</th>\n",
       "    </tr>\n",
       "  </thead>\n",
       "  <tbody>\n",
       "    <tr>\n",
       "      <th>28</th>\n",
       "      <td>28</td>\n",
       "      <td>Action</td>\n",
       "    </tr>\n",
       "    <tr>\n",
       "      <th>12</th>\n",
       "      <td>12</td>\n",
       "      <td>Adventure</td>\n",
       "    </tr>\n",
       "    <tr>\n",
       "      <th>16</th>\n",
       "      <td>16</td>\n",
       "      <td>Animation</td>\n",
       "    </tr>\n",
       "    <tr>\n",
       "      <th>35</th>\n",
       "      <td>35</td>\n",
       "      <td>Comedy</td>\n",
       "    </tr>\n",
       "    <tr>\n",
       "      <th>80</th>\n",
       "      <td>80</td>\n",
       "      <td>Crime</td>\n",
       "    </tr>\n",
       "    <tr>\n",
       "      <th>99</th>\n",
       "      <td>99</td>\n",
       "      <td>Documentary</td>\n",
       "    </tr>\n",
       "    <tr>\n",
       "      <th>18</th>\n",
       "      <td>18</td>\n",
       "      <td>Drama</td>\n",
       "    </tr>\n",
       "    <tr>\n",
       "      <th>10751</th>\n",
       "      <td>10751</td>\n",
       "      <td>Family</td>\n",
       "    </tr>\n",
       "    <tr>\n",
       "      <th>14</th>\n",
       "      <td>14</td>\n",
       "      <td>Fantasy</td>\n",
       "    </tr>\n",
       "    <tr>\n",
       "      <th>36</th>\n",
       "      <td>36</td>\n",
       "      <td>History</td>\n",
       "    </tr>\n",
       "    <tr>\n",
       "      <th>27</th>\n",
       "      <td>27</td>\n",
       "      <td>Horror</td>\n",
       "    </tr>\n",
       "    <tr>\n",
       "      <th>10402</th>\n",
       "      <td>10402</td>\n",
       "      <td>Music</td>\n",
       "    </tr>\n",
       "    <tr>\n",
       "      <th>9648</th>\n",
       "      <td>9648</td>\n",
       "      <td>Mystery</td>\n",
       "    </tr>\n",
       "    <tr>\n",
       "      <th>10749</th>\n",
       "      <td>10749</td>\n",
       "      <td>Romance</td>\n",
       "    </tr>\n",
       "    <tr>\n",
       "      <th>878</th>\n",
       "      <td>878</td>\n",
       "      <td>Science Fiction</td>\n",
       "    </tr>\n",
       "    <tr>\n",
       "      <th>10770</th>\n",
       "      <td>10770</td>\n",
       "      <td>TV Movie</td>\n",
       "    </tr>\n",
       "    <tr>\n",
       "      <th>53</th>\n",
       "      <td>53</td>\n",
       "      <td>Thriller</td>\n",
       "    </tr>\n",
       "    <tr>\n",
       "      <th>10752</th>\n",
       "      <td>10752</td>\n",
       "      <td>War</td>\n",
       "    </tr>\n",
       "    <tr>\n",
       "      <th>37</th>\n",
       "      <td>37</td>\n",
       "      <td>Western</td>\n",
       "    </tr>\n",
       "  </tbody>\n",
       "</table>\n",
       "</div>"
      ],
      "text/plain": [
       "       Genre_ID       Genre_Name\n",
       "28           28           Action\n",
       "12           12        Adventure\n",
       "16           16        Animation\n",
       "35           35           Comedy\n",
       "80           80            Crime\n",
       "99           99      Documentary\n",
       "18           18            Drama\n",
       "10751     10751           Family\n",
       "14           14          Fantasy\n",
       "36           36          History\n",
       "27           27           Horror\n",
       "10402     10402            Music\n",
       "9648       9648          Mystery\n",
       "10749     10749          Romance\n",
       "878         878  Science Fiction\n",
       "10770     10770         TV Movie\n",
       "53           53         Thriller\n",
       "10752     10752              War\n",
       "37           37          Western"
      ]
     },
     "execution_count": 46,
     "metadata": {},
     "output_type": "execute_result"
    }
   ],
   "source": [
    "genres = tmdb.Genres()\n",
    "genres_list = genres.list()\n",
    "genres_list['genres']\n",
    "genre_id = []\n",
    "genre_name = []\n",
    "for k, s in zip(range(len(genres_list['genres'])), genres_list['genres']):\n",
    "    genre_id.append(s['id'])\n",
    "    genre_name.append(s['name'])\n",
    "\n",
    "genres_df = pd.DataFrame({\"Genre_ID\": genre_id, \"Genre_Name\": genre_name}, index = genre_id)\n",
    "genres_df"
   ]
  },
  {
   "cell_type": "code",
   "execution_count": 47,
   "metadata": {
    "collapsed": false
   },
   "outputs": [
    {
     "data": {
      "text/html": [
       "<div>\n",
       "<table border=\"1\" class=\"dataframe\">\n",
       "  <thead>\n",
       "    <tr style=\"text-align: right;\">\n",
       "      <th></th>\n",
       "      <th>Unnamed: 0</th>\n",
       "      <th>genre_ids</th>\n",
       "      <th>ids</th>\n",
       "      <th>popularity</th>\n",
       "      <th>release_date</th>\n",
       "      <th>title</th>\n",
       "      <th>vote_average</th>\n",
       "      <th>Genre_Name</th>\n",
       "    </tr>\n",
       "  </thead>\n",
       "  <tbody>\n",
       "    <tr>\n",
       "      <th>0</th>\n",
       "      <td>0</td>\n",
       "      <td>878</td>\n",
       "      <td>421359</td>\n",
       "      <td>1.030704</td>\n",
       "      <td>2016-12-04</td>\n",
       "      <td>Alice and the Last Lottery</td>\n",
       "      <td>10.0</td>\n",
       "      <td>Science Fiction</td>\n",
       "    </tr>\n",
       "    <tr>\n",
       "      <th>1</th>\n",
       "      <td>1</td>\n",
       "      <td>18</td>\n",
       "      <td>421374</td>\n",
       "      <td>1.023366</td>\n",
       "      <td>2016-09-30</td>\n",
       "      <td>Bliss</td>\n",
       "      <td>10.0</td>\n",
       "      <td>Drama</td>\n",
       "    </tr>\n",
       "    <tr>\n",
       "      <th>2</th>\n",
       "      <td>2</td>\n",
       "      <td>10402</td>\n",
       "      <td>421959</td>\n",
       "      <td>1.146234</td>\n",
       "      <td>2016-09-01</td>\n",
       "      <td>Babymetal Trilogy - Metal Resistance Episode I...</td>\n",
       "      <td>10.0</td>\n",
       "      <td>Music</td>\n",
       "    </tr>\n",
       "    <tr>\n",
       "      <th>3</th>\n",
       "      <td>3</td>\n",
       "      <td>10749</td>\n",
       "      <td>422384</td>\n",
       "      <td>1.043027</td>\n",
       "      <td>2016-11-03</td>\n",
       "      <td>Verdad o reto</td>\n",
       "      <td>10.0</td>\n",
       "      <td>Romance</td>\n",
       "    </tr>\n",
       "    <tr>\n",
       "      <th>4</th>\n",
       "      <td>4</td>\n",
       "      <td>35</td>\n",
       "      <td>413192</td>\n",
       "      <td>1.012997</td>\n",
       "      <td>2016-08-24</td>\n",
       "      <td>Camp for the Broken-Hearted</td>\n",
       "      <td>10.0</td>\n",
       "      <td>Comedy</td>\n",
       "    </tr>\n",
       "  </tbody>\n",
       "</table>\n",
       "</div>"
      ],
      "text/plain": [
       "   Unnamed: 0  genre_ids     ids  popularity release_date  \\\n",
       "0           0        878  421359    1.030704   2016-12-04   \n",
       "1           1         18  421374    1.023366   2016-09-30   \n",
       "2           2      10402  421959    1.146234   2016-09-01   \n",
       "3           3      10749  422384    1.043027   2016-11-03   \n",
       "4           4         35  413192    1.012997   2016-08-24   \n",
       "\n",
       "                                               title  vote_average  \\\n",
       "0                         Alice and the Last Lottery          10.0   \n",
       "1                                              Bliss          10.0   \n",
       "2  Babymetal Trilogy - Metal Resistance Episode I...          10.0   \n",
       "3                                      Verdad o reto          10.0   \n",
       "4                        Camp for the Broken-Hearted          10.0   \n",
       "\n",
       "        Genre_Name  \n",
       "0  Science Fiction  \n",
       "1            Drama  \n",
       "2            Music  \n",
       "3          Romance  \n",
       "4           Comedy  "
      ]
     },
     "execution_count": 47,
     "metadata": {},
     "output_type": "execute_result"
    }
   ],
   "source": [
    "df_2016_all_movies['Genre_Name'] = df_2016_all_movies['genre_ids']\n",
    "df_2016_all_movies['Genre_Name'] = df_2016_all_movies['Genre_Name'].map(genres_df.set_index('Genre_ID')['Genre_Name'])\n",
    "df_2016_all_movies.head()"
   ]
  },
  {
   "cell_type": "code",
   "execution_count": 48,
   "metadata": {
    "collapsed": true
   },
   "outputs": [],
   "source": [
    "#Plot histogram of y-coords\n",
    "import numpy as np\n",
    "\n",
    "def plot_votes_by_genre():\n",
    "    fig, axes = plt.subplots(5, 4, figsize=(20, 30))\n",
    "    x = 0\n",
    "    y = 0\n",
    "    for i in genres_df['Genre_ID']:\n",
    "        vote_average_by_genre = df_2016_all_movies[(df_2016_all_movies['genre_ids'] == i) \n",
    "                                                   & (df_2016_all_movies['vote_average'] > 0)]['vote_average']\n",
    "\n",
    "        mean_y_coord = np.mean(vote_average_by_genre)\n",
    "        y_lower = np.percentile(vote_average_by_genre, 5)\n",
    "        y_upper = np.percentile(vote_average_by_genre, 95)\n",
    "        if y > 3:\n",
    "            x += 1\n",
    "            y = 0\n",
    "        axes[x,y].hist(vote_average_by_genre)\n",
    "        axes[x,y].axvline(x=mean_y_coord, color='red', linewidth=2)\n",
    "        axes[x,y].axvline(x=y_lower, color='black', linestyle='--')\n",
    "        axes[x,y].axvline(x=y_upper, color='black', linestyle='--')\n",
    "        axes[x,y].set_title('Genre: ' + str(genres_df.loc[i,'Genre_Name']))\n",
    "        axes[x,y].set_xlabel('Rating')\n",
    "        axes[x,y].set_xlim([0,10])\n",
    "        axes[x,y].set_ylabel('Count')\n",
    "        y += 1"
   ]
  },
  {
   "cell_type": "code",
   "execution_count": 49,
   "metadata": {
    "collapsed": false
   },
   "outputs": [
    {
     "data": {
      "image/png": "[encoded data removed]",
      "text/plain": [
       "<matplotlib.figure.Figure at 0xbae0588>"
      ]
     },
     "metadata": {},
     "output_type": "display_data"
    }
   ],
   "source": [
    "plot_votes_by_genre()\n",
    "plt.show()"
   ]
  },
  {
   "cell_type": "markdown",
   "metadata": {},
   "source": [
    "We wanted to see if there were any obvious trends by genre when looking at their average TMDb ratings, so we constructed histograms for each genre.  Generally, these centered around 6 but there were a few exceptions: Horror and Thriller movies have on average lower ratings while Music movies are rated significantly higher, to the degree that the distribution doesn't resemble a normal bell curve but is heavily weighted on the high-end of the scale.  Overall, it looks like there is enough disparity across genres that we should consider including ratings as one of our predictor variables in detecting genre.\n",
    "\n",
    "\n",
    "## 9. Summary and plots from Wikipedia \n",
    "\n",
    "One promissing approach to genre classification could be using plots. A simple Naive Bayes model or a more complicated model like Latent Dirichelet Allocation are expected to be pretty powerful tools for this task. Probability classifiers, contrary to methods like Support Vector Classifiers which only focus on a few vectors to seperate classes, give us probability distribution over classes which will be useful here. Indeed movies can belong to several genres and probability distributions will indicate how \"pure\" a movie is relative to its genre. "
   ]
  },
  {
   "cell_type": "code",
   "execution_count": 61,
   "metadata": {
    "collapsed": false
   },
   "outputs": [
    {
     "name": "stdout",
     "output_type": "stream",
     "text": [
      "Lost in Translation is a 2003 American romantic comedy-drama film written and directed by Sofia Coppola. It was her second feature film after The Virgin Suicides (1999). It stars Bill Murray as aging actor Bob Harris, who befriends college graduate Charlotte (Scarlett Johansson) in a Tokyo hotel.\n",
      "Lost in Translation received critical acclaim and was nominated for four Academy Awards, including Best Picture, Best Actor for Bill Murray, and Best Director for Coppola; Coppola won for Best Original Screenplay. Murray and Johansson each won a BAFTA award for Best Actor in a Leading Role and Best Actress in a Leading Role respectively. The film was a commercial success, grossing $119 million on a budget of $4 million. It is now often regarded as one of the best films of the 2000s.\n"
     ]
    }
   ],
   "source": [
    "print wikipedia.summary(\"Lost in translation (film)\")"
   ]
  },
  {
   "cell_type": "code",
   "execution_count": 68,
   "metadata": {
    "collapsed": false
   },
   "outputs": [
    {
     "name": "stdout",
     "output_type": "stream",
     "text": [
      "Lost in Translation (film)\n",
      "https://en.wikipedia.org/wiki/Lost_in_Translation_(film)\n",
      "Lost in Translation is a 2003 American romantic comedy-drama film written and directed by Sofia Coppola. It was her second feature film after The Virgin Suicides (1999). It stars Bill Murray as aging actor Bob Harris, who befriends college graduate Charlotte (Scarlett Johansson) in a Tokyo hotel.\n",
      "Lost in Translation received critical acclaim and was nominated for four Academy Awards, including Best Picture, Best Actor for Bill Murray, and Best Director for Coppola; Coppola won for Best Original Screenplay. Murray and Johansson each won a BAFTA award for Best Actor in a Leading Role and Best Actress in a Leading Role respectively. The film was a commercial success, grossing $119 million on a budget of $4 million. It is now often regarded as one of the best films of the 2000s.\n",
      "\n",
      "\n",
      "== Plot ==\n",
      "Bob Harris, an aging American movie star, arrives in Tokyo to film an advertisement for Suntory whisky. Charlotte, a young college graduate, is left in her hotel room by her husband, John, a celebrity photographer on assignment in Tokyo. Charlotte is unsure of her future with John, feeling detached from his lifestyle and disillusioned about their relationship. Bob's own 25-year marriage is strained as he goes through a midlife crisis.\n",
      "Each day, Bob and Charlotte encounter each other in the hotel, and finally meet at the hotel bar one night when neither can sleep. Eventually Charlotte invites Bob to meet with some local friends of hers. The two bond through a fun night in Tokyo, welcomed without prejudice by Charlotte's friends and experiencing Japanese nightlife and culture. In the days that follow, Bob and Charlotte's platonic relationship develops as they spend more time together. One night, each unable to sleep, the two share an intimate conversation about Charlotte's personal troubles and Bob's married life.\n",
      "On the penultimate night of his stay, Bob sleeps with the hotel bar's female jazz singer. The next morning Charlotte arrives at his room to invite him for lunch and overhears the woman in his room, leading to an argument over lunch. Later that night, during a fire alarm at the hotel, Bob and Charlotte reconcile and express how they will miss each other as they make a final visit to the hotel bar.\n",
      "The following morning, Bob is set to return to the United States. He tells Charlotte goodbye at the hotel lobby and sadly watches her walk back to the elevator. In a taxi to the airport, Bob sees Charlotte on a crowded street and gets out and goes to her. He embraces the tearful Charlotte and whispers something in her ear. The two share a kiss, say goodbye and Bob departs.\n",
      "\n",
      "\n",
      "== Cast ==\n",
      "Bill Murray as Bob Harris\n",
      "Scarlett Johansson as Charlotte\n",
      "Giovanni Ribisi as John\n",
      "Anna Faris as Kelly\n",
      "Fumihiro Hayashi as Charlie Brown\n",
      "Akiko Takeshita as Ms. Kawasaki\n",
      "François Du Bois as the Pianist\n",
      "Takashi Fujii as TV host\n",
      "Hiromix as herself\n",
      "\n",
      "\n",
      "== Analysis ==\n",
      "Over the course of the film, several things are \"lost in translation\". Bob (Murray), a Japanese director (Yutaka Tadokoro), and an interpreter (Takeshita) are on a set, filming a commercial for Suntory whisky (specifically, 17-year-old Hibiki). In several exchanges, the director gives lengthy, impassioned directives in Japanese. These are invariably followed by brief, incomplete translations from the interpreter.\n",
      "\n",
      "In addition to the meaning and detail lost in the translation of the director's words, the two central characters in the film—Bob and Charlotte—are also lost in other ways. On a basic level, they are lost in the alien Japanese culture. But in addition, they are lost in their own lives and relationships, a feeling, amplified by their displaced location, that leads to their blossoming friendship and growing connection with one another.\n",
      "By her own admission, Coppola wanted to create a romantic movie about two characters that have a moment of connection. The story's timeline was intentionally shortened to emphasize this moment. Additionally, Coppola has said that since \"there's not much happening in the story besides [Bob and Charlotte's relationship]\", the filmmakers tried to keep an ongoing tension.\n",
      "\n",
      "Murray has described his biggest challenge in portraying Bob as managing the character's conflicted feelings. On one hand, Murray said, Bob knows that it could be dangerous to become too close to Charlotte, but on the other, he is lonely and knows that having an affair would be easy. Murray worked to portray a balance between being affectionate and being \"respectable\".\n",
      "The academic Marco Abel lists Lost in Translation as one of many films that belong to the category of \"postromance\" cinema, which he says offers a negative perspective of love, sex, romance, and dating. According to Abel, the characters in such films reject the idealized notion of lifelong monogamy.\n",
      "The author and filmmaker Anita Schillhorn van Veen interprets the film as a criticism of modernity, in which Tokyo is a contemporary \"floating world\" of fleeting pleasures that are too alienating and amoral to facilitate meaningful relationships. Tessa Dwyer, writing for Linguistica Antverpiensia, New Series – Themes in Translation Studies, called Lost in Translation a polyglot film that challenges the film industry's \"more usual tendency to ignore or deny issues of language difference\" by highlighting Bob and Charlotte's difficult contact with the Japanese language.\n",
      "\n",
      "\n",
      "=== Aesthetics ===\n",
      "The author and lecturer Maria San Filippo contends that the film's setting, Tokyo, is an audiovisual metaphor for Bob and Charlotte's world views. She explains that the calm ambience of the city's hotel represents Bob's desire to be secure and undisturbed, while the energetic atmosphere of the city streets represents Charlotte's willingness to engage with the world. Coppola and Acord, the film's cinematographer, agreed that Lost in Translation needed to rely heavily on visual expression to support the characters' romance.\n",
      "Robert Hahn, an essayist writing for The Southern Review, suggested that the filmmakers deliberately used chiaroscuro, the art of using strong contrasts between light and dark to support the story. He wrote that the film's dominant light tones symbolize feelings of humor and romance, and they are contrasted with dark tones that symbolize underlying feelings of despondency. He compared this to the technique of the painter John Singer Sargent.\n",
      "The film's opening shot, which features a close shot of Charlotte resting in transparent pink underwear, has interested various commentators. In particular, it has been compared to the portraitures of the painter John Kacere and the image of Brigitte Bardot in the opening scene of the 1963 film Contempt. Dwyer wrote that when the two shots are compared, they reveal the importance of language difference, as both films highlight the complexities involved with characters speaking multiple languages. Filippo wrote that while the image in Contempt is used to remark on sexual objectification, Coppola \"doesn't seem to be making a statement at all beyond a sort of endorsement of beauty for beauty's sake\".\n",
      "Coppola revealed in a 2013 interview that the shot is indeed based on the art of Kacere. Geoff King, a professor of film at Brunel University (who published a book on the film, under the same name in a series titled \"American indies\", in 2010), contends that the shot is marked by an \"obvious\" appeal in its potential eroticism, and a \"subtle\" appeal in its artistic qualities. He used the shot as an example of the film's obvious attractions, which are characteristic of mainstream film, and its subtle ones, which are typified by \"indie\" film.\n",
      "\n",
      "\n",
      "== Production ==\n",
      "\n",
      "\n",
      "=== Development ===\n",
      "\n",
      "Coppola devised the idea of Lost in Translation after many visits to Tokyo in her twenties, basing much of the story on her experiences there. Coppola was attracted to the neon lights of Tokyo and has described the Park Hyatt Tokyo, where most of the film's interior sequences take place, as one of her \"favorite places in the world\". Particularly, she was attracted to its quietness, design, and \"combination of different cultures\", which include a New York bar and French restaurant.\n",
      "Coppola spent six months writing the film, beginning with \"short stories\" and \"impressions\" that culminated into a 70-page script. She wanted to create a story that was \"a little more funny and romantic\" than her previous feature, The Virgin Suicides, and she spent little time planning or rewriting it. Coppola has called the film a \"valentine\" to Tokyo, in which she has displayed the city in the way that it is meaningful to her.\n",
      "Coppola wrote the film with Murray in mind and said she would not have made it without him. She said that she had always wanted to work with Murray and that she was attracted to his \"sweet, lovable side\". She pursued him for five months to a year, relentlessly sending telephone messages and letters. She enlisted help from Wes Anderson, who had directed Murray in two films, and screenwriter Mitch Glazer, who was a mutual friend. Coppola went as far to asking for help from actor Al Pacino, who at the time lived in the same town as Murray. In July 2002, Coppola and Murray finally met in a restaurant, and he agreed to participate because he \"couldn't let her down\".\n",
      "Despite this, Murray did not sign a contract; when he finally arrived in Tokyo, Coppola described it as \"a huge relief\". Coppola first noticed Scarlett Johansson in Manny & Lo, where she related to her \"understated\" and \"subtle\" demeanor, envisioning her as a \"young Lauren Bacall-type girl\". Johansson, who was 17 years old at the time, immediately accepted the part and Coppola was happy with the maturity she brought to the character. In writing the story, Coppola said she was influenced by the relationship between Humphrey Bogart and Lauren Bacall in Howard Hawks’ The Big Sleep. Murray and Johansson did not do any auditions before filming.\n",
      "\n",
      "\n",
      "=== Filming ===\n",
      "Lance Acord, the film's director of photography, has written that the cinematographic style of Lost in Translation is largely based on \"daily experiences, memories and impressions\" of his time in Japan. He worked closely with Coppola to visualize the film, relying on multiple experiences he shared with her in Tokyo before production took place. Location scouting was carried out by Coppola, Acord, and Katz; and Coppola created 40 pages of photographs for the crew so that they would understand her visual intentions.\n",
      "Acord sought to maximize available light during shooting and use artificial lights as little as possible. He described this approach as conservative compared to \"the more conventional Hollywood system\", for which some of the crew's Japanese electricians thought he was \"out of his mind\". In particular, Acord did not use any artificial lights to photograph the film's night-time exteriors. Lost in Translation was largely shot in an improvised, \"free-form\" manner, which Coppola described as \"stealthy\" and \"almost documentary-style\". The crew shot in some locations without permits, including Tokyo's subways and Shibuya Crossing; they avoided police by keeping a minimal crew. Acord avoided grandiose camera movements in favor of still shots to avoid taking away from the loneliness of the characters.\n",
      "Most of the film was shot on an Aaton camera with 35 mm film stock, using Kodak Vision 500T 5263 stock for nightlight exteriors and Kodak Vision 320T 5277 stock in daylight. A smaller Moviecam Compact was used in confined locations. Coppola said that her father, Francis Ford Coppola, tried to convince her to shoot on video, but she ultimately decided on film, describing its \"fragmented, dislocated, melancholic, romantic feeling\", in contrast with video, which is \"more immediate, in the present\". In interviews, she said she wanted to shoot Tokyo with a spontaneous \"informality\", similar to the \"way a snapshot looks\", and she chose to shoot on high-speed film stocks to evoke a \"homemade intimacy\". Some scenes were shot wholly for mood and were captured without sound.\n",
      "Lost in Translation was shot six days per week in September and October 2002, over the course of 27 days. During this time, videotape footage was mailed to editor Sarah Flack in New York City, where she began editing the film in a Red Car office. The scenes with Bob and Charlotte together were largely shot in order. Many of the interior scenes were shot overnight, because the hotel did not allow the crew to shoot in much of its public space until after 1 a.m.\n",
      "Various locations were used during production; in particular, the bar featured prominently in the film is the New York Bar, which is situated on the 52nd floor of the Shinjuku Park Tower and part of the Park Hyatt in Shinjuku, Tokyo. Other locations include the Heian Jingu shrine in Kyoto and the steps of the San-mon gate at Nanzen-ji, as well as the club Air in the Daikanyama district of Tokyo. All of the locations mentioned in the film are the names of actual places that existed in Tokyo at the time of filming. Murray described the first few weeks of the shoot as like \"being held prisoner\", since he was affected by jet lag, and Johansson said the shoot made her \"busy, vulnerable and tired\".\n",
      "Coppola spoke of the challenges of directing the movie with a Japanese crew, since she had to rely on her assistant director to make translations. Much of the performances were improvised, and Coppola openly allowed modifications to dialogue during shooting. For example, the dialogue in the scene with Harris and the still photographer was unrehearsed. Coppola has said that she was attracted to the idea of Bob and Charlotte going through stages of a romantic relationship all in one week — in which they have met, courted, hurt each other, and discussed intimate life. To conclude this relationship, Coppola wanted a special ending even though she thought the concluding scene in the script was mundane. Coppola instructed Murray to perform the kiss in that scene without telling Johansson, to which she reacted without preparation. The whisper was also unscripted, but too quiet to be recorded. While Coppola initially considered having audible dialogue dubbed into the moment, she later decided that it was better to keep it \"between the two of them.\"\n",
      "After filming, Coppola and Flack spent approximately 10 weeks editing the film. In the bonus features of the film's DVD, Murray called Lost in Translation his favorite film that he has worked on, and Coppola described the film as her most \"personal\", since much of the story is based on her own experiences. For example, Charlotte's relationship with her husband is based on Coppola's relationship with her husband, Spike Jonze, when they first married, and the \"Suntory\" commercial is based on a commercial Coppola's father, Francis Ford Coppola, shot with Akira Kurosawa.\n",
      "\n",
      "\n",
      "=== Music ===\n",
      "\n",
      "The film's soundtrack, supervised by Brian Reitzell, was released on September 9, 2003 by Emperor Norton Records. It contains five songs by Kevin Shields, including one from his group My Bloody Valentine. Coppola said much of the soundtrack consisted of songs that she \"liked and had been listening to\", and she worked with Reitzell to make Tokyo dream pop mixes. The soundtrack also included The Jesus and Mary Chain hit \"Just Like Honey\". Allmusic gave the soundtrack four out of five stars, saying \"Coppola's impressionistic romance Lost in Translation features an equally impressionistic and romantic soundtrack that plays almost as big a role in the film as Bill Murray and Scarlett Johansson do.\"\n",
      "Agathi Glezakos, an academic writing a review of Lost in Translation shortly after its release, wrote that the music in the film's karaoke scene constitutes a common \"language\" that allows Bob and Charlotte to connect with some of the Japanese people amidst their alienation. In that scene, the rendition of the Pretenders' \"Brass in Pocket\" was selected to showcase a lively side of Charlotte, and \"(What's So Funny 'Bout) Peace, Love, and Understanding\" was chosen to establish that Bob is from a different generation. Both Coppola and Murray finally selected Roxy Music's \"More Than This\" during the shoot itself because they liked the band and thought the lyrics fit the story.\n",
      "\n",
      "\n",
      "== Reception ==\n",
      "\n",
      "\n",
      "=== Box office ===\n",
      "Lost in Translation was screened at the 2003 Telluride Film Festival. It was given a limited release on September 12, 2003 in 23 theaters where it grossed $925,087 on its opening weekend with an average of $40,221 per theater and ranking 15th at the box office. It was given a wider release on October 3, 2003 in 864 theaters where it grossed $4,163,333 with an average of $4,818 per theater and ranking 7th. The film went on to make $44,585,453 in North America and $75,138,403 in the rest of the world for a worldwide total of $119,723,856.\n",
      "\n",
      "\n",
      "=== Critical response ===\n",
      "Lost in Translation received critical acclaim, particularly for Coppola's direction and screenplay and Murray and Johansson's performances. It has a score of 95% on Rotten Tomatoes, with an average rating of 8.4 out of 10 based on 223 reviews. The site's \"critical consensus\" states: \"Effectively balancing humor and subtle pathos, Sofia Coppola crafts a moving, melancholy story that serves as a showcase for both Bill Murray and Scarlett Johansson\". The film also holds a score of 89 out of 100 based on 43 reviews on Metacritic, indicating \"universal acclaim\".\n",
      "Critic Roger Ebert gave Lost in Translation four out of four stars and named it the second best film of the year, describing it as \"sweet and sad at the same time as it is sardonic and funny\". In his review for The New York Times, Elvis Mitchell wrote: \"At 18, [Johansson] gets away with playing a 25-year-old woman by using her husky voice to test the level of acidity in the air ... Ms. Johansson is not nearly as accomplished a performer as Mr. Murray, but Ms. Coppola gets around this by using Charlotte's simplicity and curiosity as keys to her character.\" Entertainment Weekly gave the film an \"A\" rating and Lisa Schwarzbaum wrote: \"Working opposite the embracing, restful serenity of Johansson, Murray reveals something more commanding in his repose than we have ever seen before. Trimmed to a newly muscular, rangy handsomeness and in complete rapport with his character's hard-earned acceptance of life's limitations, Murray turns in a great performance.\"\n",
      "In his review for The New York Observer, Andrew Sarris called the film \"that rarity of rarities, a grown-up romance based on the deliberate repression of sexual gratification ... when independent films are exploding with erotic images edging ever closer to outright pornography, Ms. Coppola and her colleagues have replaced sexual facility with emotional longing, without being too coy or self-congratulatory in the process.\" USA Today gave the film three and a half stars out of four and wrote that it \"offers quiet humor in lieu of the bludgeoning direct assaults most comedies these days inflict\". Time's Richard Corliss praised Murray's performance: \"You won't find a subtler, funnier or more poignant performance this year than this quietly astonishing turn.\" His performance has been likened to the sardonic persona of W. C. Fields.\n",
      "In his review for The Observer, Philip French wrote: \"While Lost in Translation is deeply sad and has a strongly Antonioniesque flavour, it's also a wispy romantic comedy with little plot and some well-observed comic moments.\" In The Guardian, Joe Queenan praised Coppola's film as \"one of the few Hollywood films I have seen this year that has a brain; but more than that, it has a soul.\" Rolling Stone's Peter Travers gave it four out of four stars and wrote: \"Before saying goodbye, they whisper something to each other that the audience can't hear. Coppola keeps her film as hushed and intimate as that whisper. Lost in Translation is found gold. Funny how a wisp of a movie from a wisp of a girl can wipe you out.\" J. Hoberman, in his review for the Village Voice, wrote: \"Lost in Translation is as bittersweet a brief encounter as any in American movies since Richard Linklater's equally romantic Before Sunrise. But Lost in Translation is the more poignant reverie. Coppola evokes the emotional intensity of a one-night stand far from home—but what she really gets is the magic of movies\".\n",
      "The Los Angeles Film Critics Association and National Society of Film Critics voted Bill Murray best actor of the year. The New York Film Critics Circle also voted Murray best actor and Sofia Coppola best director. Coppola received an award for special filmmaking achievement from the National Board of Review. Lost in Translation also appeared on several critics' top ten lists for 2003. Roger Ebert added it to his \"great movies\" list on his website. Paste Magazine named it one of the 50 Best Movies of the Decade (2000-2009), ranking it at #7. Entertainment Weekly named it one of the best films of the decade, writing: \"Six years later, we still have no clue what Bill Murray whispered into Scarlett Johansson's ear. And we don't want to. Why spoil a perfect film?\" Director Quentin Tarantino included Lost in Translation in his list of top 20 films released since 1992, when his career as a filmmaker began.\n",
      "In a 2016 international critics' poll by BBC, Lost in Translation was voted the 22nd greatest film since 2000.\n",
      "\n",
      "\n",
      "=== Criticism ===\n",
      "The film received some negative reviews, many from Japanese critics. Japanese TV critic Osugi of Osugi and Piko fame said \"The core story is cute and not bad; however, the depiction of Japanese people is terrible!\" In a Guardian article about the film, Kiku Day, a musician specializing in the shakuhachi Japanese flute, wrote that she \"couldn't help wondering not only whether I had watched a different movie, but whether the plaudits had come from a parallel universe of values\"; according to Day, there is \"no scene where the Japanese are afforded a shred of dignity. The viewer is sledgehammered into laughing at these small, yellow people and their funny ways.\" Day also said \"while shoe-horning every possible caricature of modern Japan into her movie, Coppola is respectful of ancient Japan. It is depicted approvingly, though ancient traditions have very little to do with the contemporary Japanese. The good Japan, according to this director, is Buddhist monks chanting, ancient temples, flower arrangement; meanwhile she portrays the contemporary Japanese as ridiculous people who have lost contact with their own culture.\"\n",
      "Hawaiian filmmaker and author E. Koohan Paik wrote that \"The Japanese are presented not as people, but as clowns\" and that \"Lost in Translation relies wholly on the \"otherness\" of the Japanese to give meaning to its protagonists, shape to its plot, and color to its scenery. The inaccessibility of Japan functions as an extension of the alienation and loneliness Bob and Charlotte feel in their personal lives, thus laying the perfect conditions for romance to germinate: they're the only ones who understand each other. Take away the cartooniness of the Japanese and the humor falls flat, the main characters' intense yearning is neutralized and the plot evaporates.\"\n",
      "In another Guardian article, journalist David Stubbs described Lost in Translation as \"mopey, self-pitying drivel\", and its characters as \"spoiled, bored, rich, utterly unsympathetic Americans\". In an article published in a 2004 issue of Maclean's, Steve Burgess criticized the film as an ethnocentric \"compendium of unpleasant stereotypes ... indicative of the way visitors and foreign workers often view Japan.\" Robin Antepara, an educator writing for an issue of Commonweal, wrote that while the story embodies stereotypes, \"Charlotte is the personification of Japanese watchfulness,\" an often neglected virtue. Respected critic Calen Cole also lamented the film's particularly meandering quality, noting that \"it has a habit of lulling the viewer into a prescribed, choreographed sense of languor.\" Nevertheless, he applauded the film as being \"classic,\" and said that he still \"liked it.\" The academic Maria San Filippo wrote that the \"retreat into America-centrism would be disappointing if, again, it were not so truthful ... Coppola knows firsthand that American tourists rarely get to know any Japanese well enough to discover their depth as sympathetic human beings.\" Katz responded to some of the criticism by saying \"Sofia's love of Japan and love of the people that she's met there is incredibly evident in the film... Literally, we recounted experiences that I think all of us had gone through,\" and that none of the scenes were \"any slight to Japanese people.\"\n",
      "\n",
      "\n",
      "=== Accolades ===\n",
      "\n",
      "Lost in Translation won an Oscar for Best Original Screenplay in 2003. It was also nominated for Best Director and Best Picture, but lost both to The Lord of the Rings: The Return of the King. Bill Murray was also nominated for Best Actor, but lost to Sean Penn for Mystic River.\n",
      "The film won Golden Globes for Best Musical or Comedy Motion Picture, Best Screenplay, and Best Musical or Comedy Actor. It was also nominated for Best Director, and Best Musical or Comedy Actress.\n",
      "At the BAFTA film awards, Lost in Translation won the Best Editing, Best Actor and Best Actress awards. It was also nominated for best film, director, original screenplay, music and cinematography. It won four IFP Independent Spirit Awards, for Best Feature, Director, Male Lead, and Screenplay. The film was honored with the original screenplay award from the Writers Guild of America.\n",
      "\n",
      "\n",
      "== Release ==\n",
      "Lost in Translation was released on DVD on February 3, 2004. Entertainment Weekly gave it an \"A\" rating and criticized \"the disc's slim bonus features\", but praised the film for standing \"on its own as a valentine to the mysteries of attraction\".\n",
      "Lost in Translation was also released in high definition on the now defunct HD DVD format. A Blu-ray edition was released on January 4, 2011.\n",
      "\n",
      "\n",
      "== References ==\n",
      "\n",
      "\n",
      "== External links ==\n",
      "Official website\n",
      "Lost in Translation at the Internet Movie Database\n",
      "Lost in Translation at AllMovie\n",
      "Lost in Translation at Rotten Tomatoes\n",
      "Lost in Translation at Metacritic\n",
      "Lost in Translation at Box Office Mojo\n"
     ]
    }
   ],
   "source": [
    "lostintranslation_wiki = wikipedia.page(\"Lost in translation (film)\")\n",
    "\n",
    "print lostintranslation_wiki.title\n",
    "print lostintranslation_wiki.url\n",
    "print lostintranslation_wiki.content"
   ]
  },
  {
   "cell_type": "markdown",
   "metadata": {},
   "source": [
    "## 10. Some papers to read and videos to watch\n",
    "\n",
    "https://stanford.edu/~kuprel/cs221report.pdf\n",
    "\n",
    "http://www.thegeekmovement.com/Tanenbaum_GenreTree_Paper.pdf\n",
    "\n",
    "ML Final Project - IMDb movie genre classification \n",
    "https://www.youtube.com/watch?v=fkzgZnEHQOA"
   ]
  },
  {
   "cell_type": "markdown",
   "metadata": {
    "collapsed": true
   },
   "source": [
    "## 11. Insights\n",
    "\n",
    "### Challenges\n",
    "Some challenges that are immediately evident are 1) movies being categorized by multiple genres, 2) potential disparity between genre(s) classifications between TMDb and IMDb and 3) accurately merging the data based on movie name.\n",
    "\n",
    "For the first challenge, there are a couple of potential paths forward, such as limiting our data to just the first genre listed, as they appear to be in order of relativity.  Or, parsing the genres into their own categories as the number of genres a movie could classify as may be significant in our ability to accurately predict genre.\n",
    "\n",
    "For the second, we might first create a mapping that ensures the list of potential genres is unique (e.g. if TMDb has a genre of \"Family\" but the equivalent in IMDb is \"Family Friendly\", create a mapping from Family Friendly to Family).  Additionally, our choice of paths for the first challenge would impact how we align genres between the two databases.\n",
    "\n",
    "Thirdly, matching on movie name assumes both databases use the same text string, which could get iffy.  We may need to evaluate merging only on exact matches or allowing for \"fuzzy\" matches.\n",
    "\n",
    "### Visualizations\n",
    "Some visualizations we'd like to do once we figure out how to extract larger sections of the database are:\n",
    "    * Counts of movies by genre by year, to get a sense if there have been trends\n",
    "    * Budget by Revenue by Popularity colored by genre, to see if certain genres do better with larger budgets (for example, action movies likely require a larger budget to be popular)\n",
    "    * Bubble clusters of top keywords in movie description colored by genre, to show any relationship between description and genre\n",
    "    \n",
    "### Questions\n",
    "Some questions we could consider trying to answer:\n",
    "    * Can one predict a movie's genre based on the color tone of its poster?\n",
    "    * Can one predict a movie's genre based on the existence of key words in its description or summary?\n",
    "    * Given two posters, both of which include two characters, can we use deep learning to distinguish a romantic comedy from a classic romance?\n",
    "    * Is the gender or age of the main character significant in predicting genre?\n",
    "        \n",
    "### Next Steps\n",
    "Once we are able to download more data and get insight from visuals like the ones listed above, our next steps will likely be to try a simple Naive Bayes classifier on things like movie description and plot to see if we can identify keywords per genre.  We will also begin looking into doing deep learning on the posters.  Another thought we may look into is incorporating a movie's soundtrack, but that will depend on how much information is publicly available in the form of metadata rather than music files."
   ]
  },
  {
   "cell_type": "code",
   "execution_count": null,
   "metadata": {
    "collapsed": true
   },
   "outputs": [],
   "source": []
  }
 ],
 "metadata": {
  "anaconda-cloud": {},
  "kernelspec": {
   "display_name": "Python [Root]",
   "language": "python",
   "name": "Python [Root]"
  },
  "language_info": {
   "codemirror_mode": {
    "name": "ipython",
    "version": 2
   },
   "file_extension": ".py",
   "mimetype": "text/x-python",
   "name": "python",
   "nbconvert_exporter": "python",
   "pygments_lexer": "ipython2",
   "version": "2.7.12"
  }
 },
 "nbformat": 4,
 "nbformat_minor": 0
}
