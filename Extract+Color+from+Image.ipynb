{
 "cells": [
  {
   "cell_type": "markdown",
   "metadata": {},
   "source": [
    "# Extract main color from images\n",
    "\n",
    "Try using algolia color extractor to identify the color of the primary image in the poster."
   ]
  },
  {
   "cell_type": "markdown",
   "metadata": {},
   "source": [
    "## Color-Extractor -- DID NOT WORK"
   ]
  },
  {
   "cell_type": "code",
   "execution_count": 2,
   "metadata": {
    "collapsed": false
   },
   "outputs": [
    {
     "name": "stdout",
     "output_type": "stream",
     "text": [
      "Collecting cycler==0.10.0 (from -r /home/ubuntu/requirements.txt (line 1))\n",
      "  Using cached cycler-0.10.0-py2.py3-none-any.whl\n",
      "Collecting dask==0.10.1 (from -r /home/ubuntu/requirements.txt (line 2))\n",
      "  Using cached dask-0.10.1-py2.py3-none-any.whl\n",
      "Collecting decorator==4.0.10 (from -r /home/ubuntu/requirements.txt (line 3))\n",
      "  Using cached decorator-4.0.10-py2.py3-none-any.whl\n",
      "Collecting docopt==0.6.2 (from -r /home/ubuntu/requirements.txt (line 4))\n",
      "Collecting ijson==2.3 (from -r /home/ubuntu/requirements.txt (line 5))\n",
      "  Using cached ijson-2.3-py2.py3-none-any.whl\n",
      "Collecting matplotlib==1.5.1 (from -r /home/ubuntu/requirements.txt (line 6))\n",
      "  Using cached matplotlib-1.5.1.tar.gz\n",
      "Collecting networkx==1.11 (from -r /home/ubuntu/requirements.txt (line 7))\n",
      "  Using cached networkx-1.11-py2.py3-none-any.whl\n",
      "Collecting numpy==1.11.1 (from -r /home/ubuntu/requirements.txt (line 8))\n",
      "  Downloading numpy-1.11.1-cp35-cp35m-manylinux1_x86_64.whl (15.6MB)\n",
      "\u001b[K    100% |████████████████████████████████| 15.6MB 103kB/s eta 0:00:01\n",
      "\u001b[?25hCollecting Pillow==3.3.0 (from -r /home/ubuntu/requirements.txt (line 9))\n",
      "  Downloading Pillow-3.3.0-cp35-cp35m-manylinux1_x86_64.whl (5.5MB)\n",
      "\u001b[K    100% |████████████████████████████████| 5.6MB 294kB/s eta 0:00:01\n",
      "\u001b[?25hCollecting pyparsing==2.1.5 (from -r /home/ubuntu/requirements.txt (line 10))\n",
      "  Using cached pyparsing-2.1.5-py2.py3-none-any.whl\n",
      "Collecting python-dateutil==2.5.3 (from -r /home/ubuntu/requirements.txt (line 11))\n",
      "  Using cached python_dateutil-2.5.3-py2.py3-none-any.whl\n",
      "Collecting pytz==2016.6.1 (from -r /home/ubuntu/requirements.txt (line 12))\n",
      "  Using cached pytz-2016.6.1-py2.py3-none-any.whl\n",
      "Collecting scikit-image==0.12.3 (from -r /home/ubuntu/requirements.txt (line 13))\n",
      "  Downloading scikit_image-0.12.3-cp35-cp35m-manylinux1_x86_64.whl (27.9MB)\n",
      "\u001b[K    100% |████████████████████████████████| 27.9MB 56kB/s  eta 0:00:01\n",
      "\u001b[?25hCollecting scikit-learn==0.17.1 (from -r /home/ubuntu/requirements.txt (line 14))\n",
      "  Downloading scikit_learn-0.17.1-cp35-cp35m-manylinux1_x86_64.whl (17.5MB)\n",
      "\u001b[K    100% |████████████████████████████████| 17.6MB 90kB/s  eta 0:00:01  9% |███                             | 1.6MB 24.6MB/s eta 0:00:01    23% |███████▌                        | 4.1MB 18.8MB/s eta 0:00:01\n",
      "\u001b[?25hCollecting scipy==0.17.1 (from -r /home/ubuntu/requirements.txt (line 15))\n",
      "  Downloading scipy-0.17.1-cp35-cp35m-manylinux1_x86_64.whl (41.1MB)\n",
      "\u001b[K    100% |████████████████████████████████| 41.1MB 35kB/s  eta 0:00:01\n",
      "\u001b[?25hCollecting six==1.10.0 (from -r /home/ubuntu/requirements.txt (line 16))\n",
      "  Using cached six-1.10.0-py2.py3-none-any.whl\n",
      "Collecting toolz==0.8.0 (from -r /home/ubuntu/requirements.txt (line 17))\n",
      "  Using cached toolz-0.8.0.tar.gz\n",
      "Building wheels for collected packages: matplotlib, toolz\n",
      "  Running setup.py bdist_wheel for matplotlib ... \u001b[?25l-\b \b\\\b \b|\b \b/\b \b-\b \b\\\b \b|\b \b/\b \b-\b \b\\\b \b|\b \b/\b \b-\b \b\\\b \b|\b \b/\b \b-\b \b\\\b \b|\b \b/\b \b-\b \b\\\b \b|\b \b/\b \b-\b \b\\\b \b|\b \b/\b \b-\b \b\\\b \b|\b \b/\b \b-\b \b\\\b \b|\b \b/\b \b-\b \b\\\b \b|\b \b/\b \b-\b \b\\\b \b|\b \b/\b \b-\b \b\\\b \b|\b \b/\b \b-\b \b\\\b \b|\b \b/\b \b-\b \b\\\b \b|\b \b/\b \b-\b \b\\\b \b|\b \b/\b \b-\b \b\\\b \b|\b \b/\b \b-\b \b\\\b \b|\b \b/\b \b-\b \b\\\b \b|\b \bdone\n",
      "\u001b[?25h  Stored in directory: /home/ubuntu/.cache/pip/wheels/d8/38/3c/a388e11fd09f9b23f5e4cd74594197394d9fd65f91f64c4aa7\n",
      "  Running setup.py bdist_wheel for toolz ... \u001b[?25l-\b \bdone\n",
      "\u001b[?25h  Stored in directory: /home/ubuntu/.cache/pip/wheels/b0/84/bf/7089262387e8ea60bdefb1fdb84d2ee99427f6d09c9c7ba37d\n",
      "Successfully built matplotlib toolz\n",
      "Installing collected packages: six, cycler, dask, decorator, docopt, ijson, numpy, python-dateutil, pytz, pyparsing, matplotlib, networkx, Pillow, scikit-image, scikit-learn, scipy, toolz\n",
      "Successfully installed Pillow-3.3.0 cycler-0.10.0 dask-0.10.1 decorator-4.0.10 docopt-0.6.2 ijson-2.3 matplotlib-2.0.0 networkx-1.11 numpy-1.12.1 pyparsing-2.2.0 python-dateutil-2.6.0 pytz-2016.10 scikit-image-0.12.3 scikit-learn-0.17.1 scipy-0.19.0 six-1.10.0 toolz-0.8.0\n",
      "\u001b[33mYou are using pip version 8.1.1, however version 9.0.1 is available.\n",
      "You should consider upgrading via the 'pip install --upgrade pip' command.\u001b[0m\n"
     ]
    }
   ],
   "source": [
    "!pip3 install -r /home/ubuntu/requirements.txt"
   ]
  },
  {
   "cell_type": "code",
   "execution_count": 11,
   "metadata": {
    "collapsed": false
   },
   "outputs": [
    {
     "name": "stdout",
     "output_type": "stream",
     "text": [
      "Collecting opencv-python\n",
      "  Downloading opencv_python-3.2.0.7-cp35-cp35m-manylinux1_x86_64.whl (6.7MB)\n",
      "\u001b[K    100% |████████████████████████████████| 6.7MB 240kB/s eta 0:00:01\n",
      "\u001b[?25hCollecting numpy>=1.11.1 (from opencv-python)\n",
      "  Using cached numpy-1.12.1-cp35-cp35m-manylinux1_x86_64.whl\n",
      "Installing collected packages: numpy, opencv-python\n",
      "Successfully installed numpy-1.12.1 opencv-python-3.2.0.7\n",
      "\u001b[33mYou are using pip version 8.1.1, however version 9.0.1 is available.\n",
      "You should consider upgrading via the 'pip install --upgrade pip' command.\u001b[0m\n"
     ]
    }
   ],
   "source": [
    "!pip3 install opencv-python"
   ]
  },
  {
   "cell_type": "code",
   "execution_count": 1,
   "metadata": {
    "collapsed": false
   },
   "outputs": [
    {
     "name": "stderr",
     "output_type": "stream",
     "text": [
      "/home/ubuntu/.local/lib/python3.5/site-packages/matplotlib/font_manager.py:273: UserWarning: Matplotlib is building the font cache using fc-list. This may take a moment.\n",
      "  warnings.warn('Matplotlib is building the font cache using fc-list. This may take a moment.')\n",
      "/home/ubuntu/.local/lib/python3.5/site-packages/matplotlib/font_manager.py:273: UserWarning: Matplotlib is building the font cache using fc-list. This may take a moment.\n",
      "  warnings.warn('Matplotlib is building the font cache using fc-list. This may take a moment.')\n"
     ]
    }
   ],
   "source": [
    "import cv2\n",
    "import numpy as np\n",
    "\n",
    "from color_extractor import ImageToColor\n",
    "\n"
   ]
  },
  {
   "cell_type": "code",
   "execution_count": 2,
   "metadata": {
    "collapsed": false
   },
   "outputs": [
    {
     "ename": "KeyError",
     "evalue": "'debug'",
     "output_type": "error",
     "traceback": [
      "\u001b[0;31m---------------------------------------------------------------------------\u001b[0m",
      "\u001b[0;31mKeyError\u001b[0m                                  Traceback (most recent call last)",
      "\u001b[0;32m<ipython-input-2-1059df5513a4>\u001b[0m in \u001b[0;36m<module>\u001b[0;34m()\u001b[0m\n\u001b[1;32m      3\u001b[0m \u001b[0;34m\u001b[0m\u001b[0m\n\u001b[1;32m      4\u001b[0m \u001b[0mimg\u001b[0m \u001b[0;34m=\u001b[0m \u001b[0mcv2\u001b[0m\u001b[0;34m.\u001b[0m\u001b[0mimread\u001b[0m\u001b[0;34m(\u001b[0m\u001b[0;34m'/home/ubuntu/Posters/104677_1.jpg'\u001b[0m\u001b[0;34m)\u001b[0m\u001b[0;34m\u001b[0m\u001b[0m\n\u001b[0;32m----> 5\u001b[0;31m \u001b[0mprint\u001b[0m\u001b[0;34m(\u001b[0m\u001b[0mimg_to_color\u001b[0m\u001b[0;34m.\u001b[0m\u001b[0mget\u001b[0m\u001b[0;34m(\u001b[0m\u001b[0mimg\u001b[0m\u001b[0;34m)\u001b[0m\u001b[0;34m)\u001b[0m\u001b[0;34m\u001b[0m\u001b[0m\n\u001b[0m",
      "\u001b[0;32m/home/ubuntu/.local/lib/python3.5/site-packages/color_extractor/image_to_color.py\u001b[0m in \u001b[0;36mget\u001b[0;34m(self, img)\u001b[0m\n\u001b[1;32m     34\u001b[0m         \u001b[0mflattened\u001b[0m \u001b[0;34m=\u001b[0m \u001b[0mlist\u001b[0m\u001b[0;34m(\u001b[0m\u001b[0;34m{\u001b[0m\u001b[0mc\u001b[0m \u001b[0;32mfor\u001b[0m \u001b[0ml\u001b[0m \u001b[0;32min\u001b[0m \u001b[0mcolors\u001b[0m \u001b[0;32mfor\u001b[0m \u001b[0mc\u001b[0m \u001b[0;32min\u001b[0m \u001b[0ml\u001b[0m\u001b[0;34m}\u001b[0m\u001b[0;34m)\u001b[0m\u001b[0;34m\u001b[0m\u001b[0m\n\u001b[1;32m     35\u001b[0m \u001b[0;34m\u001b[0m\u001b[0m\n\u001b[0;32m---> 36\u001b[0;31m         \u001b[0;32mif\u001b[0m \u001b[0mself\u001b[0m\u001b[0;34m.\u001b[0m\u001b[0m_settings\u001b[0m\u001b[0;34m[\u001b[0m\u001b[0;34m'debug'\u001b[0m\u001b[0;34m]\u001b[0m \u001b[0;32mis\u001b[0m \u001b[0;32mNone\u001b[0m\u001b[0;34m:\u001b[0m\u001b[0;34m\u001b[0m\u001b[0m\n\u001b[0m\u001b[1;32m     37\u001b[0m             \u001b[0;32mreturn\u001b[0m \u001b[0mflattened\u001b[0m\u001b[0;34m\u001b[0m\u001b[0m\n\u001b[1;32m     38\u001b[0m \u001b[0;34m\u001b[0m\u001b[0m\n",
      "\u001b[0;31mKeyError\u001b[0m: 'debug'"
     ]
    }
   ],
   "source": [
    "npz = np.load('/home/ubuntu/color_names.npz')\n",
    "img_to_color = ImageToColor(npz['samples'], npz['labels'])\n",
    "\n",
    "img = cv2.imread('/home/ubuntu/Posters/104677_1.jpg')\n",
    "print(img_to_color.get(img))"
   ]
  },
  {
   "cell_type": "markdown",
   "metadata": {},
   "source": [
    "## Color-Thief -- WORKED!"
   ]
  },
  {
   "cell_type": "code",
   "execution_count": 3,
   "metadata": {
    "collapsed": false
   },
   "outputs": [
    {
     "name": "stdout",
     "output_type": "stream",
     "text": [
      "Collecting colorthief\n",
      "  Downloading colorthief-0.2.1-py2.py3-none-any.whl\n",
      "Collecting Pillow (from colorthief)\n",
      "  Downloading Pillow-4.1.1-cp35-cp35m-manylinux1_x86_64.whl (5.7MB)\n",
      "\u001b[K    100% |████████████████████████████████| 5.7MB 280kB/s eta 0:00:01\n",
      "\u001b[?25hCollecting olefile (from Pillow->colorthief)\n",
      "  Downloading olefile-0.44.zip (74kB)\n",
      "\u001b[K    100% |████████████████████████████████| 81kB 13.8MB/s ta 0:00:01\n",
      "\u001b[?25hBuilding wheels for collected packages: olefile\n",
      "  Running setup.py bdist_wheel for olefile ... \u001b[?25l-\b \bdone\n",
      "\u001b[?25h  Stored in directory: /home/ubuntu/.cache/pip/wheels/20/58/49/cc7bd00345397059149a10b0259ef38b867935ea2ecff99a9b\n",
      "Successfully built olefile\n",
      "Installing collected packages: olefile, Pillow, colorthief\n",
      "Successfully installed Pillow-3.3.0 colorthief-0.2.1 olefile-0.44\n",
      "\u001b[33mYou are using pip version 8.1.1, however version 9.0.1 is available.\n",
      "You should consider upgrading via the 'pip install --upgrade pip' command.\u001b[0m\n"
     ]
    }
   ],
   "source": [
    "!pip3 install colorthief"
   ]
  },
  {
   "cell_type": "code",
   "execution_count": 1,
   "metadata": {
    "collapsed": false
   },
   "outputs": [],
   "source": [
    "from colorthief import ColorThief"
   ]
  },
  {
   "cell_type": "code",
   "execution_count": 2,
   "metadata": {
    "collapsed": true
   },
   "outputs": [],
   "source": [
    "color_thief = ColorThief('/home/ubuntu/Posters/104677_1.jpg')\n",
    "# get the dominant color\n",
    "dominant_color = color_thief.get_color(quality=1)\n",
    "# build a color palette\n",
    "palette = color_thief.get_palette(color_count=6)"
   ]
  },
  {
   "cell_type": "code",
   "execution_count": 3,
   "metadata": {
    "collapsed": false
   },
   "outputs": [
    {
     "data": {
      "text/plain": [
       "(135, 143, 150)"
      ]
     },
     "execution_count": 3,
     "metadata": {},
     "output_type": "execute_result"
    }
   ],
   "source": [
    "dominant_color"
   ]
  },
  {
   "cell_type": "code",
   "execution_count": 7,
   "metadata": {
    "collapsed": false
   },
   "outputs": [
    {
     "name": "stdout",
     "output_type": "stream",
     "text": [
      "Collecting webcolors\n",
      "  Using cached webcolors-1.7.tar.gz\n",
      "Building wheels for collected packages: webcolors\n",
      "  Running setup.py bdist_wheel for webcolors ... \u001b[?25l-\b \bdone\n",
      "\u001b[?25h  Stored in directory: /home/ubuntu/.cache/pip/wheels/4a/bb/ba/464319914f0bfb826beb0955bbb29d7188a18368ea226a758d\n",
      "Successfully built webcolors\n",
      "Installing collected packages: webcolors\n",
      "Successfully installed webcolors-1.7\n",
      "\u001b[33mYou are using pip version 8.1.1, however version 9.0.1 is available.\n",
      "You should consider upgrading via the 'pip install --upgrade pip' command.\u001b[0m\n"
     ]
    }
   ],
   "source": [
    "!pip3 install webcolors"
   ]
  },
  {
   "cell_type": "code",
   "execution_count": 9,
   "metadata": {
    "collapsed": false
   },
   "outputs": [],
   "source": [
    "import webcolors as wc"
   ]
  },
  {
   "cell_type": "code",
   "execution_count": 11,
   "metadata": {
    "collapsed": true
   },
   "outputs": [],
   "source": [
    "def closest_colour(requested_colour):\n",
    "    min_colours = {}\n",
    "    for key, name in webcolors.css3_hex_to_names.items():\n",
    "        r_c, g_c, b_c = webcolors.hex_to_rgb(key)\n",
    "        rd = (r_c - requested_colour[0]) ** 2\n",
    "        gd = (g_c - requested_colour[1]) ** 2\n",
    "        bd = (b_c - requested_colour[2]) ** 2\n",
    "        min_colours[(rd + gd + bd)] = name\n",
    "    return min_colours[min(min_colours.keys())]\n",
    "\n",
    "def get_colour_name(requested_colour):\n",
    "    try:\n",
    "        closest_name = actual_name = webcolors.rgb_to_name(requested_colour)\n",
    "    except ValueError:\n",
    "        closest_name = closest_colour(requested_colour)\n",
    "        actual_name = None\n",
    "    return actual_name, closest_name"
   ]
  },
  {
   "cell_type": "code",
   "execution_count": 12,
   "metadata": {
    "collapsed": false
   },
   "outputs": [
    {
     "data": {
      "text/plain": [
       "(None, 'lightslategray')"
      ]
     },
     "execution_count": 12,
     "metadata": {},
     "output_type": "execute_result"
    }
   ],
   "source": [
    "get_colour_name(dominant_color)"
   ]
  },
  {
   "cell_type": "code",
   "execution_count": 17,
   "metadata": {
    "collapsed": false
   },
   "outputs": [
    {
     "data": {
      "text/plain": [
       "'lightslategray'"
      ]
     },
     "execution_count": 17,
     "metadata": {},
     "output_type": "execute_result"
    }
   ],
   "source": [
    "get_colour_name(dominant_color)[1]"
   ]
  },
  {
   "cell_type": "code",
   "execution_count": 15,
   "metadata": {
    "collapsed": false
   },
   "outputs": [
    {
     "name": "stderr",
     "output_type": "stream",
     "text": [
      "Using TensorFlow backend.\n"
     ]
    }
   ],
   "source": [
    "from PIL import Image\n",
    "from keras.preprocessing.image import ImageDataGenerator, array_to_img, img_to_array, load_img, list_pictures"
   ]
  },
  {
   "cell_type": "code",
   "execution_count": 16,
   "metadata": {
    "collapsed": false
   },
   "outputs": [
    {
     "data": {
      "text/plain": [
       "['/home/ubuntu/Posters/312809_1.jpg',\n",
       " '/home/ubuntu/Posters/36938_1.jpg',\n",
       " '/home/ubuntu/Posters/400140_1.jpg']"
      ]
     },
     "execution_count": 16,
     "metadata": {},
     "output_type": "execute_result"
    }
   ],
   "source": [
    "path = '/home/ubuntu/Posters/'\n",
    "posters = list_pictures(path)\n",
    "posters[:3]"
   ]
  },
  {
   "cell_type": "code",
   "execution_count": 19,
   "metadata": {
    "collapsed": false
   },
   "outputs": [],
   "source": [
    "ids = []\n",
    "rgbs = []\n",
    "colors = []\n",
    "\n",
    "for poster in posters:\n",
    "    p_id = str(poster[21:])\n",
    "    img = ColorThief(poster)\n",
    "    rgb_color = img.get_color(quality=1)\n",
    "    color = get_colour_name(rgb_color)[1]\n",
    "    ids.append(p_id)\n",
    "    rgbs.append(rgb_color)\n",
    "    colors.append(color)"
   ]
  },
  {
   "cell_type": "code",
   "execution_count": 24,
   "metadata": {
    "collapsed": true
   },
   "outputs": [],
   "source": [
    "import pandas as pd"
   ]
  },
  {
   "cell_type": "code",
   "execution_count": 26,
   "metadata": {
    "collapsed": false
   },
   "outputs": [
    {
     "data": {
      "text/html": [
       "<div>\n",
       "<table border=\"1\" class=\"dataframe\">\n",
       "  <thead>\n",
       "    <tr style=\"text-align: right;\">\n",
       "      <th></th>\n",
       "      <th>filename</th>\n",
       "      <th>primary_color</th>\n",
       "    </tr>\n",
       "  </thead>\n",
       "  <tbody>\n",
       "    <tr>\n",
       "      <th>0</th>\n",
       "      <td>312809_1.jpg</td>\n",
       "      <td>salmon</td>\n",
       "    </tr>\n",
       "    <tr>\n",
       "      <th>1</th>\n",
       "      <td>36938_1.jpg</td>\n",
       "      <td>black</td>\n",
       "    </tr>\n",
       "    <tr>\n",
       "      <th>2</th>\n",
       "      <td>400140_1.jpg</td>\n",
       "      <td>darkslategray</td>\n",
       "    </tr>\n",
       "    <tr>\n",
       "      <th>3</th>\n",
       "      <td>114236_1.jpg</td>\n",
       "      <td>lightgray</td>\n",
       "    </tr>\n",
       "    <tr>\n",
       "      <th>4</th>\n",
       "      <td>37944_1.jpg</td>\n",
       "      <td>silver</td>\n",
       "    </tr>\n",
       "  </tbody>\n",
       "</table>\n",
       "</div>"
      ],
      "text/plain": [
       "       filename  primary_color\n",
       "0  312809_1.jpg         salmon\n",
       "1   36938_1.jpg          black\n",
       "2  400140_1.jpg  darkslategray\n",
       "3  114236_1.jpg      lightgray\n",
       "4   37944_1.jpg         silver"
      ]
     },
     "execution_count": 26,
     "metadata": {},
     "output_type": "execute_result"
    }
   ],
   "source": [
    "comb = pd.DataFrame({'filename': ids, 'primary_color': colors})\n",
    "comb.head()"
   ]
  },
  {
   "cell_type": "code",
   "execution_count": 30,
   "metadata": {
    "collapsed": false
   },
   "outputs": [
    {
     "data": {
      "text/html": [
       "<div>\n",
       "<table border=\"1\" class=\"dataframe\">\n",
       "  <thead>\n",
       "    <tr style=\"text-align: right;\">\n",
       "      <th></th>\n",
       "      <th>genre_ids</th>\n",
       "      <th>ids</th>\n",
       "      <th>popularity</th>\n",
       "      <th>release_date</th>\n",
       "      <th>release_year</th>\n",
       "      <th>title</th>\n",
       "      <th>vote_average</th>\n",
       "      <th>url poster1</th>\n",
       "      <th>filename</th>\n",
       "    </tr>\n",
       "  </thead>\n",
       "  <tbody>\n",
       "    <tr>\n",
       "      <th>0</th>\n",
       "      <td>28</td>\n",
       "      <td>400140</td>\n",
       "      <td>1.000898</td>\n",
       "      <td>2010-09-30</td>\n",
       "      <td>2010</td>\n",
       "      <td>Caos</td>\n",
       "      <td>0.0</td>\n",
       "      <td>http://image.tmdb.org/t/p/w500/nqk1cKEKvkpHHeM...</td>\n",
       "      <td>400140_1.jpg</td>\n",
       "    </tr>\n",
       "    <tr>\n",
       "      <th>1</th>\n",
       "      <td>28</td>\n",
       "      <td>187682</td>\n",
       "      <td>1.034173</td>\n",
       "      <td>1975-06-07</td>\n",
       "      <td>1975</td>\n",
       "      <td>Lady of the Law</td>\n",
       "      <td>6.0</td>\n",
       "      <td>http://image.tmdb.org/t/p/w500/eA5U2DNNfw674Gv...</td>\n",
       "      <td>187682_1.jpg</td>\n",
       "    </tr>\n",
       "  </tbody>\n",
       "</table>\n",
       "</div>"
      ],
      "text/plain": [
       "   genre_ids     ids  popularity release_date  release_year            title  \\\n",
       "0         28  400140    1.000898   2010-09-30          2010             Caos   \n",
       "1         28  187682    1.034173   1975-06-07          1975  Lady of the Law   \n",
       "\n",
       "   vote_average                                        url poster1  \\\n",
       "0           0.0  http://image.tmdb.org/t/p/w500/nqk1cKEKvkpHHeM...   \n",
       "1           6.0  http://image.tmdb.org/t/p/w500/eA5U2DNNfw674Gv...   \n",
       "\n",
       "       filename  \n",
       "0  400140_1.jpg  \n",
       "1  187682_1.jpg  "
      ]
     },
     "execution_count": 30,
     "metadata": {},
     "output_type": "execute_result"
    }
   ],
   "source": [
    "data = pd.read_csv('/home/ubuntu/150samples_metadata.csv')\n",
    "data.drop('Unnamed: 0', axis=1, inplace=True)\n",
    "data.head(2)"
   ]
  },
  {
   "cell_type": "code",
   "execution_count": 31,
   "metadata": {
    "collapsed": false
   },
   "outputs": [
    {
     "data": {
      "text/html": [
       "<div>\n",
       "<table border=\"1\" class=\"dataframe\">\n",
       "  <thead>\n",
       "    <tr style=\"text-align: right;\">\n",
       "      <th></th>\n",
       "      <th>genre_ids</th>\n",
       "      <th>ids</th>\n",
       "      <th>popularity</th>\n",
       "      <th>release_date</th>\n",
       "      <th>release_year</th>\n",
       "      <th>title</th>\n",
       "      <th>vote_average</th>\n",
       "      <th>url poster1</th>\n",
       "      <th>filename</th>\n",
       "      <th>primary_color</th>\n",
       "    </tr>\n",
       "  </thead>\n",
       "  <tbody>\n",
       "    <tr>\n",
       "      <th>0</th>\n",
       "      <td>28</td>\n",
       "      <td>400140</td>\n",
       "      <td>1.000898</td>\n",
       "      <td>2010-09-30</td>\n",
       "      <td>2010</td>\n",
       "      <td>Caos</td>\n",
       "      <td>0.0</td>\n",
       "      <td>http://image.tmdb.org/t/p/w500/nqk1cKEKvkpHHeM...</td>\n",
       "      <td>400140_1.jpg</td>\n",
       "      <td>darkslategray</td>\n",
       "    </tr>\n",
       "    <tr>\n",
       "      <th>1</th>\n",
       "      <td>28</td>\n",
       "      <td>187682</td>\n",
       "      <td>1.034173</td>\n",
       "      <td>1975-06-07</td>\n",
       "      <td>1975</td>\n",
       "      <td>Lady of the Law</td>\n",
       "      <td>6.0</td>\n",
       "      <td>http://image.tmdb.org/t/p/w500/eA5U2DNNfw674Gv...</td>\n",
       "      <td>187682_1.jpg</td>\n",
       "      <td>palevioletred</td>\n",
       "    </tr>\n",
       "    <tr>\n",
       "      <th>2</th>\n",
       "      <td>28</td>\n",
       "      <td>27172</td>\n",
       "      <td>1.332542</td>\n",
       "      <td>1970-09-18</td>\n",
       "      <td>1970</td>\n",
       "      <td>There Was a Crooked Man...</td>\n",
       "      <td>6.9</td>\n",
       "      <td>http://image.tmdb.org/t/p/w500/nnaKoENm9RslQIt...</td>\n",
       "      <td>27172_1.jpg</td>\n",
       "      <td>linen</td>\n",
       "    </tr>\n",
       "    <tr>\n",
       "      <th>3</th>\n",
       "      <td>28</td>\n",
       "      <td>202182</td>\n",
       "      <td>1.006750</td>\n",
       "      <td>1974-05-21</td>\n",
       "      <td>1974</td>\n",
       "      <td>Young Lovers on Flying Wheels</td>\n",
       "      <td>0.0</td>\n",
       "      <td>http://image.tmdb.org/t/p/w500/c25g5bNXSZDHdHu...</td>\n",
       "      <td>202182_1.jpg</td>\n",
       "      <td>burlywood</td>\n",
       "    </tr>\n",
       "    <tr>\n",
       "      <th>4</th>\n",
       "      <td>28</td>\n",
       "      <td>251531</td>\n",
       "      <td>1.000384</td>\n",
       "      <td>1978-02-09</td>\n",
       "      <td>1978</td>\n",
       "      <td>The Hero Tattooed with Nine Dragons</td>\n",
       "      <td>0.0</td>\n",
       "      <td>http://image.tmdb.org/t/p/w500/6DK1x2tuiCHeFkE...</td>\n",
       "      <td>251531_1.jpg</td>\n",
       "      <td>chocolate</td>\n",
       "    </tr>\n",
       "  </tbody>\n",
       "</table>\n",
       "</div>"
      ],
      "text/plain": [
       "   genre_ids     ids  popularity release_date  release_year  \\\n",
       "0         28  400140    1.000898   2010-09-30          2010   \n",
       "1         28  187682    1.034173   1975-06-07          1975   \n",
       "2         28   27172    1.332542   1970-09-18          1970   \n",
       "3         28  202182    1.006750   1974-05-21          1974   \n",
       "4         28  251531    1.000384   1978-02-09          1978   \n",
       "\n",
       "                                 title  vote_average  \\\n",
       "0                                 Caos           0.0   \n",
       "1                      Lady of the Law           6.0   \n",
       "2           There Was a Crooked Man...           6.9   \n",
       "3        Young Lovers on Flying Wheels           0.0   \n",
       "4  The Hero Tattooed with Nine Dragons           0.0   \n",
       "\n",
       "                                         url poster1      filename  \\\n",
       "0  http://image.tmdb.org/t/p/w500/nqk1cKEKvkpHHeM...  400140_1.jpg   \n",
       "1  http://image.tmdb.org/t/p/w500/eA5U2DNNfw674Gv...  187682_1.jpg   \n",
       "2  http://image.tmdb.org/t/p/w500/nnaKoENm9RslQIt...   27172_1.jpg   \n",
       "3  http://image.tmdb.org/t/p/w500/c25g5bNXSZDHdHu...  202182_1.jpg   \n",
       "4  http://image.tmdb.org/t/p/w500/6DK1x2tuiCHeFkE...  251531_1.jpg   \n",
       "\n",
       "   primary_color  \n",
       "0  darkslategray  \n",
       "1  palevioletred  \n",
       "2          linen  \n",
       "3      burlywood  \n",
       "4      chocolate  "
      ]
     },
     "execution_count": 31,
     "metadata": {},
     "output_type": "execute_result"
    }
   ],
   "source": [
    "all_info = pd.merge(data, comb, how='inner', on='filename')\n",
    "all_info.head()"
   ]
  },
  {
   "cell_type": "code",
   "execution_count": 32,
   "metadata": {
    "collapsed": true
   },
   "outputs": [],
   "source": [
    "all_info.to_csv('/home/ubuntu/150samples_metadata_color.csv')"
   ]
  }
 ],
 "metadata": {
  "kernelspec": {
   "display_name": "Python [Root]",
   "language": "python",
   "name": "Python [Root]"
  },
  "language_info": {
   "codemirror_mode": {
    "name": "ipython",
    "version": 2
   },
   "file_extension": ".py",
   "mimetype": "text/x-python",
   "name": "python",
   "nbconvert_exporter": "python",
   "pygments_lexer": "ipython2",
   "version": "2.7.12"
  }
 },
 "nbformat": 4,
 "nbformat_minor": 2
}
